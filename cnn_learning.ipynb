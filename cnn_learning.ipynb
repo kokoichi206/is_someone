{
  "nbformat": 4,
  "nbformat_minor": 0,
  "metadata": {
    "colab": {
      "name": "cnn_learning.ipynb",
      "provenance": [],
      "collapsed_sections": [],
      "authorship_tag": "ABX9TyP/I6Kewzhl6DYmrzG2upgT",
      "include_colab_link": true
    },
    "kernelspec": {
      "name": "python3",
      "display_name": "Python 3"
    },
    "language_info": {
      "name": "python"
    },
    "accelerator": "GPU"
  },
  "cells": [
    {
      "cell_type": "markdown",
      "metadata": {
        "id": "view-in-github",
        "colab_type": "text"
      },
      "source": [
        "<a href=\"https://colab.research.google.com/github/kokoichi206/is_someone/blob/main/cnn_learning.ipynb\" target=\"_parent\"><img src=\"https://colab.research.google.com/assets/colab-badge.svg\" alt=\"Open In Colab\"/></a>"
      ]
    },
    {
      "cell_type": "code",
      "metadata": {
        "colab": {
          "base_uri": "https://localhost:8080/",
          "height": 1000
        },
        "id": "Ul2ZcnPMc8UW",
        "outputId": "bc947bc0-df6b-438f-decb-8f77ae923cc6"
      },
      "source": [
        "!pip uninstall keras -y\n",
        "!pip uninstall keras-nightly -y\n",
        "!pip uninstall keras-Preprocessing -y\n",
        "!pip uninstall keras-vis -y\n",
        "!pip uninstall tensorflow -y\n",
        "\n",
        "!pip install tensorflow==2.3.0\n",
        "!pip install keras==2.4"
      ],
      "execution_count": null,
      "outputs": [
        {
          "output_type": "stream",
          "text": [
            "Uninstalling Keras-2.4.0:\n",
            "  Successfully uninstalled Keras-2.4.0\n",
            "\u001b[33mWARNING: Skipping keras-nightly as it is not installed.\u001b[0m\n",
            "Uninstalling Keras-Preprocessing-1.1.2:\n",
            "  Successfully uninstalled Keras-Preprocessing-1.1.2\n",
            "\u001b[33mWARNING: Skipping keras-vis as it is not installed.\u001b[0m\n",
            "Uninstalling tensorflow-2.3.0:\n",
            "  Successfully uninstalled tensorflow-2.3.0\n",
            "Collecting tensorflow==2.3.0\n",
            "  Using cached https://files.pythonhosted.org/packages/16/89/f2d29c2eafc2eeafb17d5634340e06366af904d332341200a49d954bce85/tensorflow-2.3.0-cp37-cp37m-manylinux2010_x86_64.whl\n",
            "Requirement already satisfied: h5py<2.11.0,>=2.10.0 in /usr/local/lib/python3.7/dist-packages (from tensorflow==2.3.0) (2.10.0)\n",
            "Requirement already satisfied: google-pasta>=0.1.8 in /usr/local/lib/python3.7/dist-packages (from tensorflow==2.3.0) (0.2.0)\n",
            "Requirement already satisfied: gast==0.3.3 in /usr/local/lib/python3.7/dist-packages (from tensorflow==2.3.0) (0.3.3)\n",
            "Requirement already satisfied: protobuf>=3.9.2 in /usr/local/lib/python3.7/dist-packages (from tensorflow==2.3.0) (3.17.3)\n",
            "Requirement already satisfied: absl-py>=0.7.0 in /usr/local/lib/python3.7/dist-packages (from tensorflow==2.3.0) (0.12.0)\n",
            "Requirement already satisfied: numpy<1.19.0,>=1.16.0 in /usr/local/lib/python3.7/dist-packages (from tensorflow==2.3.0) (1.18.5)\n",
            "Requirement already satisfied: tensorflow-estimator<2.4.0,>=2.3.0 in /usr/local/lib/python3.7/dist-packages (from tensorflow==2.3.0) (2.3.0)\n",
            "Requirement already satisfied: tensorboard<3,>=2.3.0 in /usr/local/lib/python3.7/dist-packages (from tensorflow==2.3.0) (2.5.0)\n",
            "Requirement already satisfied: wrapt>=1.11.1 in /usr/local/lib/python3.7/dist-packages (from tensorflow==2.3.0) (1.12.1)\n",
            "Requirement already satisfied: wheel>=0.26 in /usr/local/lib/python3.7/dist-packages (from tensorflow==2.3.0) (0.36.2)\n",
            "Requirement already satisfied: six>=1.12.0 in /usr/local/lib/python3.7/dist-packages (from tensorflow==2.3.0) (1.15.0)\n",
            "Requirement already satisfied: astunparse==1.6.3 in /usr/local/lib/python3.7/dist-packages (from tensorflow==2.3.0) (1.6.3)\n",
            "Requirement already satisfied: scipy==1.4.1 in /usr/local/lib/python3.7/dist-packages (from tensorflow==2.3.0) (1.4.1)\n",
            "Requirement already satisfied: grpcio>=1.8.6 in /usr/local/lib/python3.7/dist-packages (from tensorflow==2.3.0) (1.34.1)\n",
            "Requirement already satisfied: termcolor>=1.1.0 in /usr/local/lib/python3.7/dist-packages (from tensorflow==2.3.0) (1.1.0)\n",
            "Requirement already satisfied: opt-einsum>=2.3.2 in /usr/local/lib/python3.7/dist-packages (from tensorflow==2.3.0) (3.3.0)\n",
            "Collecting keras-preprocessing<1.2,>=1.1.1\n",
            "  Using cached https://files.pythonhosted.org/packages/79/4c/7c3275a01e12ef9368a892926ab932b33bb13d55794881e3573482b378a7/Keras_Preprocessing-1.1.2-py2.py3-none-any.whl\n",
            "Requirement already satisfied: werkzeug>=0.11.15 in /usr/local/lib/python3.7/dist-packages (from tensorboard<3,>=2.3.0->tensorflow==2.3.0) (1.0.1)\n",
            "Requirement already satisfied: google-auth-oauthlib<0.5,>=0.4.1 in /usr/local/lib/python3.7/dist-packages (from tensorboard<3,>=2.3.0->tensorflow==2.3.0) (0.4.4)\n",
            "Requirement already satisfied: setuptools>=41.0.0 in /usr/local/lib/python3.7/dist-packages (from tensorboard<3,>=2.3.0->tensorflow==2.3.0) (57.0.0)\n",
            "Requirement already satisfied: google-auth<2,>=1.6.3 in /usr/local/lib/python3.7/dist-packages (from tensorboard<3,>=2.3.0->tensorflow==2.3.0) (1.32.1)\n",
            "Requirement already satisfied: tensorboard-data-server<0.7.0,>=0.6.0 in /usr/local/lib/python3.7/dist-packages (from tensorboard<3,>=2.3.0->tensorflow==2.3.0) (0.6.1)\n",
            "Requirement already satisfied: requests<3,>=2.21.0 in /usr/local/lib/python3.7/dist-packages (from tensorboard<3,>=2.3.0->tensorflow==2.3.0) (2.23.0)\n",
            "Requirement already satisfied: markdown>=2.6.8 in /usr/local/lib/python3.7/dist-packages (from tensorboard<3,>=2.3.0->tensorflow==2.3.0) (3.3.4)\n",
            "Requirement already satisfied: tensorboard-plugin-wit>=1.6.0 in /usr/local/lib/python3.7/dist-packages (from tensorboard<3,>=2.3.0->tensorflow==2.3.0) (1.8.0)\n",
            "Requirement already satisfied: requests-oauthlib>=0.7.0 in /usr/local/lib/python3.7/dist-packages (from google-auth-oauthlib<0.5,>=0.4.1->tensorboard<3,>=2.3.0->tensorflow==2.3.0) (1.3.0)\n",
            "Requirement already satisfied: pyasn1-modules>=0.2.1 in /usr/local/lib/python3.7/dist-packages (from google-auth<2,>=1.6.3->tensorboard<3,>=2.3.0->tensorflow==2.3.0) (0.2.8)\n",
            "Requirement already satisfied: cachetools<5.0,>=2.0.0 in /usr/local/lib/python3.7/dist-packages (from google-auth<2,>=1.6.3->tensorboard<3,>=2.3.0->tensorflow==2.3.0) (4.2.2)\n",
            "Requirement already satisfied: rsa<5,>=3.1.4; python_version >= \"3.6\" in /usr/local/lib/python3.7/dist-packages (from google-auth<2,>=1.6.3->tensorboard<3,>=2.3.0->tensorflow==2.3.0) (4.7.2)\n",
            "Requirement already satisfied: chardet<4,>=3.0.2 in /usr/local/lib/python3.7/dist-packages (from requests<3,>=2.21.0->tensorboard<3,>=2.3.0->tensorflow==2.3.0) (3.0.4)\n",
            "Requirement already satisfied: certifi>=2017.4.17 in /usr/local/lib/python3.7/dist-packages (from requests<3,>=2.21.0->tensorboard<3,>=2.3.0->tensorflow==2.3.0) (2021.5.30)\n",
            "Requirement already satisfied: idna<3,>=2.5 in /usr/local/lib/python3.7/dist-packages (from requests<3,>=2.21.0->tensorboard<3,>=2.3.0->tensorflow==2.3.0) (2.10)\n",
            "Requirement already satisfied: urllib3!=1.25.0,!=1.25.1,<1.26,>=1.21.1 in /usr/local/lib/python3.7/dist-packages (from requests<3,>=2.21.0->tensorboard<3,>=2.3.0->tensorflow==2.3.0) (1.24.3)\n",
            "Requirement already satisfied: importlib-metadata; python_version < \"3.8\" in /usr/local/lib/python3.7/dist-packages (from markdown>=2.6.8->tensorboard<3,>=2.3.0->tensorflow==2.3.0) (4.6.0)\n",
            "Requirement already satisfied: oauthlib>=3.0.0 in /usr/local/lib/python3.7/dist-packages (from requests-oauthlib>=0.7.0->google-auth-oauthlib<0.5,>=0.4.1->tensorboard<3,>=2.3.0->tensorflow==2.3.0) (3.1.1)\n",
            "Requirement already satisfied: pyasn1<0.5.0,>=0.4.6 in /usr/local/lib/python3.7/dist-packages (from pyasn1-modules>=0.2.1->google-auth<2,>=1.6.3->tensorboard<3,>=2.3.0->tensorflow==2.3.0) (0.4.8)\n",
            "Requirement already satisfied: typing-extensions>=3.6.4; python_version < \"3.8\" in /usr/local/lib/python3.7/dist-packages (from importlib-metadata; python_version < \"3.8\"->markdown>=2.6.8->tensorboard<3,>=2.3.0->tensorflow==2.3.0) (3.7.4.3)\n",
            "Requirement already satisfied: zipp>=0.5 in /usr/local/lib/python3.7/dist-packages (from importlib-metadata; python_version < \"3.8\"->markdown>=2.6.8->tensorboard<3,>=2.3.0->tensorflow==2.3.0) (3.4.1)\n",
            "Installing collected packages: keras-preprocessing, tensorflow\n",
            "Successfully installed keras-preprocessing-1.1.2 tensorflow-2.3.0\n"
          ],
          "name": "stdout"
        },
        {
          "output_type": "display_data",
          "data": {
            "application/vnd.colab-display-data+json": {
              "pip_warning": {
                "packages": [
                  "keras_preprocessing",
                  "tensorflow"
                ]
              }
            }
          },
          "metadata": {
            "tags": []
          }
        },
        {
          "output_type": "stream",
          "text": [
            "Collecting keras==2.4\n",
            "  Using cached https://files.pythonhosted.org/packages/b6/19/9d8f1c86c09d05369da39b03d011cd689edef86c0e6b2777dbcedc49dfc6/Keras-2.4.0-py2.py3-none-any.whl\n",
            "Requirement already satisfied: h5py in /usr/local/lib/python3.7/dist-packages (from keras==2.4) (2.10.0)\n",
            "Requirement already satisfied: pyyaml in /usr/local/lib/python3.7/dist-packages (from keras==2.4) (3.13)\n",
            "Requirement already satisfied: tensorflow>=2.2.0 in /usr/local/lib/python3.7/dist-packages (from keras==2.4) (2.3.0)\n",
            "Requirement already satisfied: numpy>=1.9.1 in /usr/local/lib/python3.7/dist-packages (from keras==2.4) (1.18.5)\n",
            "Requirement already satisfied: scipy>=0.14 in /usr/local/lib/python3.7/dist-packages (from keras==2.4) (1.4.1)\n",
            "Requirement already satisfied: six in /usr/local/lib/python3.7/dist-packages (from h5py->keras==2.4) (1.15.0)\n",
            "Requirement already satisfied: astunparse==1.6.3 in /usr/local/lib/python3.7/dist-packages (from tensorflow>=2.2.0->keras==2.4) (1.6.3)\n",
            "Requirement already satisfied: protobuf>=3.9.2 in /usr/local/lib/python3.7/dist-packages (from tensorflow>=2.2.0->keras==2.4) (3.17.3)\n",
            "Requirement already satisfied: grpcio>=1.8.6 in /usr/local/lib/python3.7/dist-packages (from tensorflow>=2.2.0->keras==2.4) (1.34.1)\n",
            "Requirement already satisfied: google-pasta>=0.1.8 in /usr/local/lib/python3.7/dist-packages (from tensorflow>=2.2.0->keras==2.4) (0.2.0)\n",
            "Requirement already satisfied: absl-py>=0.7.0 in /usr/local/lib/python3.7/dist-packages (from tensorflow>=2.2.0->keras==2.4) (0.12.0)\n",
            "Requirement already satisfied: opt-einsum>=2.3.2 in /usr/local/lib/python3.7/dist-packages (from tensorflow>=2.2.0->keras==2.4) (3.3.0)\n",
            "Requirement already satisfied: wrapt>=1.11.1 in /usr/local/lib/python3.7/dist-packages (from tensorflow>=2.2.0->keras==2.4) (1.12.1)\n",
            "Requirement already satisfied: tensorboard<3,>=2.3.0 in /usr/local/lib/python3.7/dist-packages (from tensorflow>=2.2.0->keras==2.4) (2.5.0)\n",
            "Requirement already satisfied: termcolor>=1.1.0 in /usr/local/lib/python3.7/dist-packages (from tensorflow>=2.2.0->keras==2.4) (1.1.0)\n",
            "Requirement already satisfied: gast==0.3.3 in /usr/local/lib/python3.7/dist-packages (from tensorflow>=2.2.0->keras==2.4) (0.3.3)\n",
            "Requirement already satisfied: tensorflow-estimator<2.4.0,>=2.3.0 in /usr/local/lib/python3.7/dist-packages (from tensorflow>=2.2.0->keras==2.4) (2.3.0)\n",
            "Requirement already satisfied: keras-preprocessing<1.2,>=1.1.1 in /usr/local/lib/python3.7/dist-packages (from tensorflow>=2.2.0->keras==2.4) (1.1.2)\n",
            "Requirement already satisfied: wheel>=0.26 in /usr/local/lib/python3.7/dist-packages (from tensorflow>=2.2.0->keras==2.4) (0.36.2)\n",
            "Requirement already satisfied: tensorboard-plugin-wit>=1.6.0 in /usr/local/lib/python3.7/dist-packages (from tensorboard<3,>=2.3.0->tensorflow>=2.2.0->keras==2.4) (1.8.0)\n",
            "Requirement already satisfied: google-auth<2,>=1.6.3 in /usr/local/lib/python3.7/dist-packages (from tensorboard<3,>=2.3.0->tensorflow>=2.2.0->keras==2.4) (1.32.1)\n",
            "Requirement already satisfied: markdown>=2.6.8 in /usr/local/lib/python3.7/dist-packages (from tensorboard<3,>=2.3.0->tensorflow>=2.2.0->keras==2.4) (3.3.4)\n",
            "Requirement already satisfied: tensorboard-data-server<0.7.0,>=0.6.0 in /usr/local/lib/python3.7/dist-packages (from tensorboard<3,>=2.3.0->tensorflow>=2.2.0->keras==2.4) (0.6.1)\n",
            "Requirement already satisfied: google-auth-oauthlib<0.5,>=0.4.1 in /usr/local/lib/python3.7/dist-packages (from tensorboard<3,>=2.3.0->tensorflow>=2.2.0->keras==2.4) (0.4.4)\n",
            "Requirement already satisfied: werkzeug>=0.11.15 in /usr/local/lib/python3.7/dist-packages (from tensorboard<3,>=2.3.0->tensorflow>=2.2.0->keras==2.4) (1.0.1)\n",
            "Requirement already satisfied: setuptools>=41.0.0 in /usr/local/lib/python3.7/dist-packages (from tensorboard<3,>=2.3.0->tensorflow>=2.2.0->keras==2.4) (57.0.0)\n",
            "Requirement already satisfied: requests<3,>=2.21.0 in /usr/local/lib/python3.7/dist-packages (from tensorboard<3,>=2.3.0->tensorflow>=2.2.0->keras==2.4) (2.23.0)\n",
            "Requirement already satisfied: cachetools<5.0,>=2.0.0 in /usr/local/lib/python3.7/dist-packages (from google-auth<2,>=1.6.3->tensorboard<3,>=2.3.0->tensorflow>=2.2.0->keras==2.4) (4.2.2)\n",
            "Requirement already satisfied: pyasn1-modules>=0.2.1 in /usr/local/lib/python3.7/dist-packages (from google-auth<2,>=1.6.3->tensorboard<3,>=2.3.0->tensorflow>=2.2.0->keras==2.4) (0.2.8)\n",
            "Requirement already satisfied: rsa<5,>=3.1.4; python_version >= \"3.6\" in /usr/local/lib/python3.7/dist-packages (from google-auth<2,>=1.6.3->tensorboard<3,>=2.3.0->tensorflow>=2.2.0->keras==2.4) (4.7.2)\n",
            "Requirement already satisfied: importlib-metadata; python_version < \"3.8\" in /usr/local/lib/python3.7/dist-packages (from markdown>=2.6.8->tensorboard<3,>=2.3.0->tensorflow>=2.2.0->keras==2.4) (4.6.0)\n",
            "Requirement already satisfied: requests-oauthlib>=0.7.0 in /usr/local/lib/python3.7/dist-packages (from google-auth-oauthlib<0.5,>=0.4.1->tensorboard<3,>=2.3.0->tensorflow>=2.2.0->keras==2.4) (1.3.0)\n",
            "Requirement already satisfied: idna<3,>=2.5 in /usr/local/lib/python3.7/dist-packages (from requests<3,>=2.21.0->tensorboard<3,>=2.3.0->tensorflow>=2.2.0->keras==2.4) (2.10)\n",
            "Requirement already satisfied: certifi>=2017.4.17 in /usr/local/lib/python3.7/dist-packages (from requests<3,>=2.21.0->tensorboard<3,>=2.3.0->tensorflow>=2.2.0->keras==2.4) (2021.5.30)\n",
            "Requirement already satisfied: urllib3!=1.25.0,!=1.25.1,<1.26,>=1.21.1 in /usr/local/lib/python3.7/dist-packages (from requests<3,>=2.21.0->tensorboard<3,>=2.3.0->tensorflow>=2.2.0->keras==2.4) (1.24.3)\n",
            "Requirement already satisfied: chardet<4,>=3.0.2 in /usr/local/lib/python3.7/dist-packages (from requests<3,>=2.21.0->tensorboard<3,>=2.3.0->tensorflow>=2.2.0->keras==2.4) (3.0.4)\n",
            "Requirement already satisfied: pyasn1<0.5.0,>=0.4.6 in /usr/local/lib/python3.7/dist-packages (from pyasn1-modules>=0.2.1->google-auth<2,>=1.6.3->tensorboard<3,>=2.3.0->tensorflow>=2.2.0->keras==2.4) (0.4.8)\n",
            "Requirement already satisfied: zipp>=0.5 in /usr/local/lib/python3.7/dist-packages (from importlib-metadata; python_version < \"3.8\"->markdown>=2.6.8->tensorboard<3,>=2.3.0->tensorflow>=2.2.0->keras==2.4) (3.4.1)\n",
            "Requirement already satisfied: typing-extensions>=3.6.4; python_version < \"3.8\" in /usr/local/lib/python3.7/dist-packages (from importlib-metadata; python_version < \"3.8\"->markdown>=2.6.8->tensorboard<3,>=2.3.0->tensorflow>=2.2.0->keras==2.4) (3.7.4.3)\n",
            "Requirement already satisfied: oauthlib>=3.0.0 in /usr/local/lib/python3.7/dist-packages (from requests-oauthlib>=0.7.0->google-auth-oauthlib<0.5,>=0.4.1->tensorboard<3,>=2.3.0->tensorflow>=2.2.0->keras==2.4) (3.1.1)\n",
            "Installing collected packages: keras\n",
            "Successfully installed keras-2.4.0\n"
          ],
          "name": "stdout"
        },
        {
          "output_type": "display_data",
          "data": {
            "application/vnd.colab-display-data+json": {
              "pip_warning": {
                "packages": [
                  "keras"
                ]
              }
            }
          },
          "metadata": {
            "tags": []
          }
        }
      ]
    },
    {
      "cell_type": "code",
      "metadata": {
        "colab": {
          "base_uri": "https://localhost:8080/"
        },
        "id": "yRU-xSdi8RKr",
        "outputId": "57b46db0-e288-4a8d-a02d-c160b18da723"
      },
      "source": [
        "from google.colab import drive\n",
        "drive.mount('/content/drive')"
      ],
      "execution_count": null,
      "outputs": [
        {
          "output_type": "stream",
          "text": [
            "Mounted at /content/drive\n"
          ],
          "name": "stdout"
        }
      ]
    },
    {
      "cell_type": "code",
      "metadata": {
        "id": "TLOt7O0lw08x"
      },
      "source": [
        "import numpy as np\n",
        "\n",
        "datasets = np.load(\"drive/My Drive/Colab Notebooks/ml_2021/dataset/dataset.npz\")\n",
        "\n",
        "x_train = datasets['X_train']\n",
        "x_test = datasets['X_test']\n",
        "t_train = datasets['y_train']\n",
        "t_test = datasets['y_test']"
      ],
      "execution_count": null,
      "outputs": []
    },
    {
      "cell_type": "code",
      "metadata": {
        "colab": {
          "base_uri": "https://localhost:8080/"
        },
        "id": "qBuZ3iqf9Re9",
        "outputId": "eb8b8ae0-7f5a-410a-b713-90b9661466d1"
      },
      "source": [
        "print(len(x_train))\n",
        "print(len(t_test))\n",
        "print(len(x_train[0]))\n",
        "print(len(t_train[0]))"
      ],
      "execution_count": null,
      "outputs": [
        {
          "output_type": "stream",
          "text": [
            "424\n",
            "209\n",
            "50\n",
            "2\n"
          ],
          "name": "stdout"
        }
      ]
    },
    {
      "cell_type": "code",
      "metadata": {
        "colab": {
          "base_uri": "https://localhost:8080/"
        },
        "id": "sFInvStXO2ov",
        "outputId": "b7d6b48c-f2eb-403e-ce10-b69c4577351a"
      },
      "source": [
        "print(x_train[0])\n",
        "print(t_train[0])\n",
        "# x_train[0]"
      ],
      "execution_count": null,
      "outputs": [
        {
          "output_type": "stream",
          "text": [
            "[[[0.00392157 0.         0.        ]\n",
            "  [0.00392157 0.         0.        ]\n",
            "  [0.00392157 0.         0.        ]\n",
            "  ...\n",
            "  [0.         0.01568628 0.        ]\n",
            "  [0.         0.00392157 0.        ]\n",
            "  [0.         0.00392157 0.        ]]\n",
            "\n",
            " [[0.         0.         0.        ]\n",
            "  [0.         0.         0.        ]\n",
            "  [0.         0.         0.        ]\n",
            "  ...\n",
            "  [0.         0.01176471 0.        ]\n",
            "  [0.         0.         0.        ]\n",
            "  [0.         0.         0.        ]]\n",
            "\n",
            " [[0.         0.         0.        ]\n",
            "  [0.         0.         0.        ]\n",
            "  [0.         0.         0.        ]\n",
            "  ...\n",
            "  [0.         0.00392157 0.        ]\n",
            "  [0.         0.         0.        ]\n",
            "  [0.         0.         0.        ]]\n",
            "\n",
            " ...\n",
            "\n",
            " [[0.         0.         0.01960784]\n",
            "  [0.14901961 0.16862746 0.18431373]\n",
            "  [0.6862745  0.7058824  0.72156864]\n",
            "  ...\n",
            "  [0.84705883 0.9254902  0.9607843 ]\n",
            "  [0.827451   0.8862745  0.90588236]\n",
            "  [0.81960785 0.8784314  0.8980392 ]]\n",
            "\n",
            " [[0.00392157 0.00784314 0.02352941]\n",
            "  [0.15686275 0.17254902 0.18431373]\n",
            "  [0.7254902  0.7372549  0.75686276]\n",
            "  ...\n",
            "  [0.8627451  0.9019608  0.90588236]\n",
            "  [0.8901961  0.93333334 0.95686275]\n",
            "  [0.89411765 0.9372549  0.9607843 ]]\n",
            "\n",
            " [[0.00392157 0.00784314 0.02352941]\n",
            "  [0.16078432 0.1764706  0.1882353 ]\n",
            "  [0.7372549  0.7490196  0.76862746]\n",
            "  ...\n",
            "  [0.8745098  0.9137255  0.91764706]\n",
            "  [0.8627451  0.90588236 0.92941177]\n",
            "  [0.8627451  0.90588236 0.92941177]]]\n",
            "[1. 0.]\n"
          ],
          "name": "stdout"
        }
      ]
    },
    {
      "cell_type": "code",
      "metadata": {
        "id": "85RJexq69iQG"
      },
      "source": [
        "import tensorflow\n",
        "import keras\n",
        "from keras.preprocessing.image import ImageDataGenerator"
      ],
      "execution_count": null,
      "outputs": []
    },
    {
      "cell_type": "code",
      "metadata": {
        "colab": {
          "base_uri": "https://localhost:8080/"
        },
        "id": "R_TilJrs99fp",
        "outputId": "47f2e2c8-71ce-4ce6-e898-93e35593e06b"
      },
      "source": [
        "from keras.models import Sequential\n",
        "from keras.layers import Dense, Dropout, Activation, Flatten\n",
        "from keras.layers import Conv2D, MaxPooling2D\n",
        "from keras.optimizers import Adam\n",
        "from tensorflow.keras.utils import to_categorical\n",
        "\n",
        "\n",
        "batch_size = 32\n",
        "epochs = 150\n",
        "n_class = 2\n",
        "\n",
        "# t_train = to_categorical(t_train, n_class)  # one-hot表現に\n",
        "# t_test = to_categorical(t_test, n_class)\n",
        "\n",
        "model = Sequential()\n",
        "\n",
        "model.add(Conv2D(32, (3, 3), padding='same', input_shape=x_train.shape[1:]))  # ゼロパディング、バッチサイズ以外の画像の形状を指定\n",
        "model.add(Activation('relu'))\n",
        "model.add(Conv2D(32, (3, 3)))\n",
        "model.add(Activation('relu'))\n",
        "model.add(MaxPooling2D(pool_size=(2, 2)))\n",
        "\n",
        "model.add(Conv2D(64, (3, 3), padding='same'))\n",
        "model.add(Activation('relu'))\n",
        "model.add(Conv2D(64, (3, 3)))\n",
        "model.add(Activation('relu'))\n",
        "model.add(MaxPooling2D(pool_size=(2, 2)))\n",
        "\n",
        "model.add(Conv2D(64, (3, 3), padding='same'))\n",
        "model.add(Activation('relu'))\n",
        "model.add(Conv2D(64, (3, 3), padding='same'))\n",
        "model.add(Activation('relu'))\n",
        "model.add(MaxPooling2D(pool_size=(2, 2)))\n",
        "\n",
        "model.add(Conv2D(64, (3, 3), padding='same'))\n",
        "model.add(Activation('relu'))\n",
        "model.add(Conv2D(64, (3, 3), padding='same'))\n",
        "model.add(Activation('relu'))\n",
        "model.add(MaxPooling2D(pool_size=(2, 2)))\n",
        "\n",
        "model.add(Conv2D(64, (3, 3), padding='same'))\n",
        "model.add(Activation('relu'))\n",
        "model.add(Conv2D(64, (3, 3), padding='same'))\n",
        "model.add(Activation('relu'))\n",
        "model.add(MaxPooling2D(pool_size=(2, 2)))\n",
        "\n",
        "model.add(Flatten())  # 一次元の配列に変換\n",
        "model.add(Dense(256))\n",
        "model.add(Activation('relu'))\n",
        "model.add(Dropout(0.5))  # ドロップアウト\n",
        "model.add(Dense(n_class))\n",
        "model.add(Activation('softmax'))\n",
        "\n",
        "model.compile(optimizer=Adam(), loss='categorical_crossentropy', metrics=['accuracy'])\n",
        "model.summary()"
      ],
      "execution_count": null,
      "outputs": [
        {
          "output_type": "stream",
          "text": [
            "Model: \"sequential_11\"\n",
            "_________________________________________________________________\n",
            "Layer (type)                 Output Shape              Param #   \n",
            "=================================================================\n",
            "conv2d_100 (Conv2D)          (None, 50, 50, 32)        896       \n",
            "_________________________________________________________________\n",
            "activation_108 (Activation)  (None, 50, 50, 32)        0         \n",
            "_________________________________________________________________\n",
            "conv2d_101 (Conv2D)          (None, 48, 48, 32)        9248      \n",
            "_________________________________________________________________\n",
            "activation_109 (Activation)  (None, 48, 48, 32)        0         \n",
            "_________________________________________________________________\n",
            "max_pooling2d_46 (MaxPooling (None, 24, 24, 32)        0         \n",
            "_________________________________________________________________\n",
            "conv2d_102 (Conv2D)          (None, 24, 24, 64)        18496     \n",
            "_________________________________________________________________\n",
            "activation_110 (Activation)  (None, 24, 24, 64)        0         \n",
            "_________________________________________________________________\n",
            "conv2d_103 (Conv2D)          (None, 22, 22, 64)        36928     \n",
            "_________________________________________________________________\n",
            "activation_111 (Activation)  (None, 22, 22, 64)        0         \n",
            "_________________________________________________________________\n",
            "max_pooling2d_47 (MaxPooling (None, 11, 11, 64)        0         \n",
            "_________________________________________________________________\n",
            "conv2d_104 (Conv2D)          (None, 11, 11, 64)        36928     \n",
            "_________________________________________________________________\n",
            "activation_112 (Activation)  (None, 11, 11, 64)        0         \n",
            "_________________________________________________________________\n",
            "conv2d_105 (Conv2D)          (None, 11, 11, 64)        36928     \n",
            "_________________________________________________________________\n",
            "activation_113 (Activation)  (None, 11, 11, 64)        0         \n",
            "_________________________________________________________________\n",
            "max_pooling2d_48 (MaxPooling (None, 5, 5, 64)          0         \n",
            "_________________________________________________________________\n",
            "conv2d_106 (Conv2D)          (None, 5, 5, 64)          36928     \n",
            "_________________________________________________________________\n",
            "activation_114 (Activation)  (None, 5, 5, 64)          0         \n",
            "_________________________________________________________________\n",
            "conv2d_107 (Conv2D)          (None, 5, 5, 64)          36928     \n",
            "_________________________________________________________________\n",
            "activation_115 (Activation)  (None, 5, 5, 64)          0         \n",
            "_________________________________________________________________\n",
            "max_pooling2d_49 (MaxPooling (None, 2, 2, 64)          0         \n",
            "_________________________________________________________________\n",
            "conv2d_108 (Conv2D)          (None, 2, 2, 64)          36928     \n",
            "_________________________________________________________________\n",
            "activation_116 (Activation)  (None, 2, 2, 64)          0         \n",
            "_________________________________________________________________\n",
            "conv2d_109 (Conv2D)          (None, 2, 2, 64)          36928     \n",
            "_________________________________________________________________\n",
            "activation_117 (Activation)  (None, 2, 2, 64)          0         \n",
            "_________________________________________________________________\n",
            "max_pooling2d_50 (MaxPooling (None, 1, 1, 64)          0         \n",
            "_________________________________________________________________\n",
            "flatten_6 (Flatten)          (None, 64)                0         \n",
            "_________________________________________________________________\n",
            "dense_12 (Dense)             (None, 256)               16640     \n",
            "_________________________________________________________________\n",
            "activation_118 (Activation)  (None, 256)               0         \n",
            "_________________________________________________________________\n",
            "dropout_6 (Dropout)          (None, 256)               0         \n",
            "_________________________________________________________________\n",
            "dense_13 (Dense)             (None, 2)                 514       \n",
            "_________________________________________________________________\n",
            "activation_119 (Activation)  (None, 2)                 0         \n",
            "=================================================================\n",
            "Total params: 304,290\n",
            "Trainable params: 304,290\n",
            "Non-trainable params: 0\n",
            "_________________________________________________________________\n"
          ],
          "name": "stdout"
        }
      ]
    },
    {
      "cell_type": "code",
      "metadata": {
        "colab": {
          "base_uri": "https://localhost:8080/"
        },
        "id": "_c8zuK3TBZBT",
        "outputId": "22a27cf0-7ca8-494b-e1ca-100b933b30ba"
      },
      "source": [
        "# x_train = x_train / 255  # 0から1の範囲に収める\n",
        "# x_test = x_test / 255\n",
        "\n",
        "generator = ImageDataGenerator(\n",
        "           rotation_range=0.2,\n",
        "           width_shift_range=0.2,\n",
        "           height_shift_range=0.2,\n",
        "           shear_range=1,\n",
        "           zoom_range=0.2,\n",
        "           horizontal_flip=True)\n",
        "generator.fit(x_train)\n",
        "\n",
        "history = model.fit(generator.flow(x_train, t_train, batch_size=batch_size),\n",
        "                              epochs=epochs,\n",
        "                              validation_data=(x_test, t_test))\n"
      ],
      "execution_count": null,
      "outputs": [
        {
          "output_type": "stream",
          "text": [
            "Epoch 1/150\n",
            "14/14 [==============================] - 3s 85ms/step - loss: 0.6931 - accuracy: 0.4757 - val_loss: 0.6874 - val_accuracy: 0.5885\n",
            "Epoch 2/150\n",
            "14/14 [==============================] - 0s 35ms/step - loss: 0.6863 - accuracy: 0.5494 - val_loss: 0.6831 - val_accuracy: 0.5885\n",
            "Epoch 3/150\n",
            "14/14 [==============================] - 0s 34ms/step - loss: 0.6801 - accuracy: 0.5959 - val_loss: 0.6833 - val_accuracy: 0.5885\n",
            "Epoch 4/150\n",
            "14/14 [==============================] - 0s 32ms/step - loss: 0.6796 - accuracy: 0.6148 - val_loss: 0.6805 - val_accuracy: 0.5885\n",
            "Epoch 5/150\n",
            "14/14 [==============================] - 0s 32ms/step - loss: 0.6779 - accuracy: 0.5996 - val_loss: 0.6779 - val_accuracy: 0.5885\n",
            "Epoch 6/150\n",
            "14/14 [==============================] - 0s 34ms/step - loss: 0.6790 - accuracy: 0.5855 - val_loss: 0.6771 - val_accuracy: 0.5885\n",
            "Epoch 7/150\n",
            "14/14 [==============================] - 0s 34ms/step - loss: 0.6713 - accuracy: 0.6120 - val_loss: 0.6758 - val_accuracy: 0.5885\n",
            "Epoch 8/150\n",
            "14/14 [==============================] - 0s 32ms/step - loss: 0.6731 - accuracy: 0.5937 - val_loss: 0.6720 - val_accuracy: 0.5885\n",
            "Epoch 9/150\n",
            "14/14 [==============================] - 0s 32ms/step - loss: 0.6774 - accuracy: 0.5773 - val_loss: 0.6676 - val_accuracy: 0.6077\n",
            "Epoch 10/150\n",
            "14/14 [==============================] - 0s 32ms/step - loss: 0.6734 - accuracy: 0.6026 - val_loss: 0.6779 - val_accuracy: 0.5885\n",
            "Epoch 11/150\n",
            "14/14 [==============================] - 1s 36ms/step - loss: 0.6829 - accuracy: 0.5728 - val_loss: 0.6774 - val_accuracy: 0.5885\n",
            "Epoch 12/150\n",
            "14/14 [==============================] - 0s 34ms/step - loss: 0.6734 - accuracy: 0.6049 - val_loss: 0.6773 - val_accuracy: 0.5885\n",
            "Epoch 13/150\n",
            "14/14 [==============================] - 0s 33ms/step - loss: 0.6844 - accuracy: 0.5799 - val_loss: 0.6783 - val_accuracy: 0.5885\n",
            "Epoch 14/150\n",
            "14/14 [==============================] - 0s 33ms/step - loss: 0.6846 - accuracy: 0.5682 - val_loss: 0.6787 - val_accuracy: 0.5885\n",
            "Epoch 15/150\n",
            "14/14 [==============================] - 0s 32ms/step - loss: 0.6814 - accuracy: 0.5802 - val_loss: 0.6786 - val_accuracy: 0.5885\n",
            "Epoch 16/150\n",
            "14/14 [==============================] - 0s 33ms/step - loss: 0.6722 - accuracy: 0.6156 - val_loss: 0.6779 - val_accuracy: 0.5885\n",
            "Epoch 17/150\n",
            "14/14 [==============================] - 0s 32ms/step - loss: 0.6741 - accuracy: 0.5969 - val_loss: 0.6777 - val_accuracy: 0.5885\n",
            "Epoch 18/150\n",
            "14/14 [==============================] - 0s 34ms/step - loss: 0.6809 - accuracy: 0.5787 - val_loss: 0.6773 - val_accuracy: 0.5885\n",
            "Epoch 19/150\n",
            "14/14 [==============================] - 0s 32ms/step - loss: 0.6805 - accuracy: 0.5836 - val_loss: 0.6778 - val_accuracy: 0.5885\n",
            "Epoch 20/150\n",
            "14/14 [==============================] - 0s 32ms/step - loss: 0.6804 - accuracy: 0.5812 - val_loss: 0.6778 - val_accuracy: 0.5885\n",
            "Epoch 21/150\n",
            "14/14 [==============================] - 0s 35ms/step - loss: 0.6820 - accuracy: 0.5786 - val_loss: 0.6774 - val_accuracy: 0.5885\n",
            "Epoch 22/150\n",
            "14/14 [==============================] - 0s 32ms/step - loss: 0.6737 - accuracy: 0.6029 - val_loss: 0.6764 - val_accuracy: 0.5885\n",
            "Epoch 23/150\n",
            "14/14 [==============================] - 0s 31ms/step - loss: 0.6823 - accuracy: 0.5804 - val_loss: 0.6772 - val_accuracy: 0.5885\n",
            "Epoch 24/150\n",
            "14/14 [==============================] - 0s 33ms/step - loss: 0.6755 - accuracy: 0.5893 - val_loss: 0.6751 - val_accuracy: 0.5885\n",
            "Epoch 25/150\n",
            "14/14 [==============================] - 0s 32ms/step - loss: 0.6873 - accuracy: 0.5499 - val_loss: 0.6765 - val_accuracy: 0.5885\n",
            "Epoch 26/150\n",
            "14/14 [==============================] - 0s 33ms/step - loss: 0.6816 - accuracy: 0.6033 - val_loss: 0.6777 - val_accuracy: 0.5885\n",
            "Epoch 27/150\n",
            "14/14 [==============================] - 0s 32ms/step - loss: 0.6853 - accuracy: 0.5645 - val_loss: 0.6773 - val_accuracy: 0.5885\n",
            "Epoch 28/150\n",
            "14/14 [==============================] - 0s 33ms/step - loss: 0.6847 - accuracy: 0.5623 - val_loss: 0.6769 - val_accuracy: 0.5885\n",
            "Epoch 29/150\n",
            "14/14 [==============================] - 0s 31ms/step - loss: 0.6675 - accuracy: 0.6155 - val_loss: 0.6685 - val_accuracy: 0.6124\n",
            "Epoch 30/150\n",
            "14/14 [==============================] - 0s 34ms/step - loss: 0.6688 - accuracy: 0.6218 - val_loss: 0.6686 - val_accuracy: 0.5981\n",
            "Epoch 31/150\n",
            "14/14 [==============================] - 0s 31ms/step - loss: 0.6620 - accuracy: 0.6260 - val_loss: 0.6804 - val_accuracy: 0.5885\n",
            "Epoch 32/150\n",
            "14/14 [==============================] - 0s 32ms/step - loss: 0.6807 - accuracy: 0.5938 - val_loss: 0.6770 - val_accuracy: 0.5885\n",
            "Epoch 33/150\n",
            "14/14 [==============================] - 0s 35ms/step - loss: 0.6799 - accuracy: 0.5795 - val_loss: 0.6748 - val_accuracy: 0.5885\n",
            "Epoch 34/150\n",
            "14/14 [==============================] - 0s 32ms/step - loss: 0.6786 - accuracy: 0.5938 - val_loss: 0.6772 - val_accuracy: 0.5885\n",
            "Epoch 35/150\n",
            "14/14 [==============================] - 0s 32ms/step - loss: 0.6805 - accuracy: 0.5817 - val_loss: 0.6782 - val_accuracy: 0.5885\n",
            "Epoch 36/150\n",
            "14/14 [==============================] - 0s 33ms/step - loss: 0.6750 - accuracy: 0.6010 - val_loss: 0.6748 - val_accuracy: 0.5885\n",
            "Epoch 37/150\n",
            "14/14 [==============================] - 0s 35ms/step - loss: 0.6841 - accuracy: 0.5636 - val_loss: 0.6722 - val_accuracy: 0.5885\n",
            "Epoch 38/150\n",
            "14/14 [==============================] - 0s 33ms/step - loss: 0.6957 - accuracy: 0.5403 - val_loss: 0.6687 - val_accuracy: 0.5885\n",
            "Epoch 39/150\n",
            "14/14 [==============================] - 0s 33ms/step - loss: 0.6638 - accuracy: 0.6047 - val_loss: 0.6737 - val_accuracy: 0.5885\n",
            "Epoch 40/150\n",
            "14/14 [==============================] - 0s 34ms/step - loss: 0.6685 - accuracy: 0.5966 - val_loss: 0.6697 - val_accuracy: 0.5885\n",
            "Epoch 41/150\n",
            "14/14 [==============================] - 0s 34ms/step - loss: 0.6556 - accuracy: 0.6174 - val_loss: 0.6596 - val_accuracy: 0.5981\n",
            "Epoch 42/150\n",
            "14/14 [==============================] - 0s 34ms/step - loss: 0.6513 - accuracy: 0.6083 - val_loss: 0.6431 - val_accuracy: 0.6364\n",
            "Epoch 43/150\n",
            "14/14 [==============================] - 0s 33ms/step - loss: 0.6392 - accuracy: 0.6792 - val_loss: 0.6694 - val_accuracy: 0.5981\n",
            "Epoch 44/150\n",
            "14/14 [==============================] - 0s 33ms/step - loss: 0.6589 - accuracy: 0.6269 - val_loss: 0.6560 - val_accuracy: 0.6124\n",
            "Epoch 45/150\n",
            "14/14 [==============================] - 0s 32ms/step - loss: 0.6445 - accuracy: 0.6408 - val_loss: 0.6372 - val_accuracy: 0.6411\n",
            "Epoch 46/150\n",
            "14/14 [==============================] - 0s 32ms/step - loss: 0.6760 - accuracy: 0.5911 - val_loss: 0.6787 - val_accuracy: 0.5885\n",
            "Epoch 47/150\n",
            "14/14 [==============================] - 0s 32ms/step - loss: 0.6762 - accuracy: 0.5947 - val_loss: 0.6775 - val_accuracy: 0.5885\n",
            "Epoch 48/150\n",
            "14/14 [==============================] - 0s 32ms/step - loss: 0.6912 - accuracy: 0.5606 - val_loss: 0.6774 - val_accuracy: 0.5885\n",
            "Epoch 49/150\n",
            "14/14 [==============================] - 0s 34ms/step - loss: 0.6928 - accuracy: 0.5449 - val_loss: 0.6775 - val_accuracy: 0.5885\n",
            "Epoch 50/150\n",
            "14/14 [==============================] - 0s 31ms/step - loss: 0.6835 - accuracy: 0.5695 - val_loss: 0.6774 - val_accuracy: 0.5885\n",
            "Epoch 51/150\n",
            "14/14 [==============================] - 0s 33ms/step - loss: 0.6835 - accuracy: 0.5705 - val_loss: 0.6774 - val_accuracy: 0.5885\n",
            "Epoch 52/150\n",
            "14/14 [==============================] - 0s 32ms/step - loss: 0.6791 - accuracy: 0.5904 - val_loss: 0.6776 - val_accuracy: 0.5885\n",
            "Epoch 53/150\n",
            "14/14 [==============================] - 1s 36ms/step - loss: 0.6925 - accuracy: 0.5520 - val_loss: 0.6780 - val_accuracy: 0.5885\n",
            "Epoch 54/150\n",
            "14/14 [==============================] - 0s 33ms/step - loss: 0.6765 - accuracy: 0.6025 - val_loss: 0.6773 - val_accuracy: 0.5885\n",
            "Epoch 55/150\n",
            "14/14 [==============================] - 0s 33ms/step - loss: 0.6902 - accuracy: 0.5574 - val_loss: 0.6775 - val_accuracy: 0.5885\n",
            "Epoch 56/150\n",
            "14/14 [==============================] - 0s 33ms/step - loss: 0.6740 - accuracy: 0.6010 - val_loss: 0.6776 - val_accuracy: 0.5885\n",
            "Epoch 57/150\n",
            "14/14 [==============================] - 1s 36ms/step - loss: 0.6831 - accuracy: 0.5731 - val_loss: 0.6775 - val_accuracy: 0.5885\n",
            "Epoch 58/150\n",
            "14/14 [==============================] - 0s 35ms/step - loss: 0.6794 - accuracy: 0.5797 - val_loss: 0.6774 - val_accuracy: 0.5885\n",
            "Epoch 59/150\n",
            "14/14 [==============================] - 0s 32ms/step - loss: 0.6713 - accuracy: 0.6010 - val_loss: 0.6773 - val_accuracy: 0.5885\n",
            "Epoch 60/150\n",
            "14/14 [==============================] - 0s 32ms/step - loss: 0.6788 - accuracy: 0.5837 - val_loss: 0.6775 - val_accuracy: 0.5885\n",
            "Epoch 61/150\n",
            "14/14 [==============================] - 0s 34ms/step - loss: 0.6776 - accuracy: 0.5857 - val_loss: 0.6754 - val_accuracy: 0.5885\n",
            "Epoch 62/150\n",
            "14/14 [==============================] - 0s 34ms/step - loss: 0.6852 - accuracy: 0.5577 - val_loss: 0.6706 - val_accuracy: 0.5885\n",
            "Epoch 63/150\n",
            "14/14 [==============================] - 0s 33ms/step - loss: 0.6048 - accuracy: 0.6351 - val_loss: 0.6666 - val_accuracy: 0.5885\n",
            "Epoch 64/150\n",
            "14/14 [==============================] - 0s 33ms/step - loss: 0.6615 - accuracy: 0.5585 - val_loss: 0.6544 - val_accuracy: 0.5885\n",
            "Epoch 65/150\n",
            "14/14 [==============================] - 0s 33ms/step - loss: 0.6577 - accuracy: 0.5744 - val_loss: 0.7295 - val_accuracy: 0.6411\n",
            "Epoch 66/150\n",
            "14/14 [==============================] - 0s 33ms/step - loss: 0.7186 - accuracy: 0.5795 - val_loss: 0.6830 - val_accuracy: 0.6268\n",
            "Epoch 67/150\n",
            "14/14 [==============================] - 0s 32ms/step - loss: 0.6818 - accuracy: 0.5901 - val_loss: 0.6723 - val_accuracy: 0.6316\n",
            "Epoch 68/150\n",
            "14/14 [==============================] - 0s 33ms/step - loss: 0.6622 - accuracy: 0.6588 - val_loss: 0.6663 - val_accuracy: 0.6077\n",
            "Epoch 69/150\n",
            "14/14 [==============================] - 1s 36ms/step - loss: 0.6775 - accuracy: 0.5851 - val_loss: 0.6725 - val_accuracy: 0.5837\n",
            "Epoch 70/150\n",
            "14/14 [==============================] - 0s 34ms/step - loss: 0.6739 - accuracy: 0.5751 - val_loss: 0.6577 - val_accuracy: 0.5885\n",
            "Epoch 71/150\n",
            "14/14 [==============================] - 0s 32ms/step - loss: 0.6734 - accuracy: 0.5382 - val_loss: 0.6986 - val_accuracy: 0.6268\n",
            "Epoch 72/150\n",
            "14/14 [==============================] - 0s 33ms/step - loss: 0.6332 - accuracy: 0.6638 - val_loss: 0.6404 - val_accuracy: 0.6507\n",
            "Epoch 73/150\n",
            "14/14 [==============================] - 0s 32ms/step - loss: 0.6343 - accuracy: 0.6783 - val_loss: 0.6408 - val_accuracy: 0.6890\n",
            "Epoch 74/150\n",
            "14/14 [==============================] - 0s 33ms/step - loss: 0.6358 - accuracy: 0.6584 - val_loss: 0.6612 - val_accuracy: 0.6603\n",
            "Epoch 75/150\n",
            "14/14 [==============================] - 0s 32ms/step - loss: 0.6328 - accuracy: 0.6160 - val_loss: 0.6391 - val_accuracy: 0.6364\n",
            "Epoch 76/150\n",
            "14/14 [==============================] - 0s 32ms/step - loss: 0.6000 - accuracy: 0.6405 - val_loss: 0.6786 - val_accuracy: 0.6507\n",
            "Epoch 77/150\n",
            "14/14 [==============================] - 0s 35ms/step - loss: 0.6145 - accuracy: 0.6530 - val_loss: 0.6340 - val_accuracy: 0.6651\n",
            "Epoch 78/150\n",
            "14/14 [==============================] - 0s 33ms/step - loss: 0.6258 - accuracy: 0.6642 - val_loss: 0.6412 - val_accuracy: 0.6603\n",
            "Epoch 79/150\n",
            "14/14 [==============================] - 1s 36ms/step - loss: 0.6213 - accuracy: 0.6624 - val_loss: 0.6598 - val_accuracy: 0.6411\n",
            "Epoch 80/150\n",
            "14/14 [==============================] - 0s 34ms/step - loss: 0.6269 - accuracy: 0.6726 - val_loss: 0.6952 - val_accuracy: 0.5263\n",
            "Epoch 81/150\n",
            "14/14 [==============================] - 0s 33ms/step - loss: 0.6102 - accuracy: 0.6609 - val_loss: 0.6551 - val_accuracy: 0.6316\n",
            "Epoch 82/150\n",
            "14/14 [==============================] - 1s 37ms/step - loss: 0.6098 - accuracy: 0.6575 - val_loss: 0.6497 - val_accuracy: 0.6459\n",
            "Epoch 83/150\n",
            "14/14 [==============================] - 0s 34ms/step - loss: 0.6356 - accuracy: 0.6341 - val_loss: 0.6335 - val_accuracy: 0.6603\n",
            "Epoch 84/150\n",
            "14/14 [==============================] - 0s 32ms/step - loss: 0.6085 - accuracy: 0.6830 - val_loss: 0.6320 - val_accuracy: 0.6651\n",
            "Epoch 85/150\n",
            "14/14 [==============================] - 0s 35ms/step - loss: 0.5835 - accuracy: 0.6927 - val_loss: 0.6375 - val_accuracy: 0.6459\n",
            "Epoch 86/150\n",
            "14/14 [==============================] - 0s 34ms/step - loss: 0.6153 - accuracy: 0.6315 - val_loss: 0.7906 - val_accuracy: 0.6316\n",
            "Epoch 87/150\n",
            "14/14 [==============================] - 0s 34ms/step - loss: 0.6158 - accuracy: 0.7007 - val_loss: 0.6471 - val_accuracy: 0.6411\n",
            "Epoch 88/150\n",
            "14/14 [==============================] - 1s 35ms/step - loss: 0.5943 - accuracy: 0.6780 - val_loss: 0.6432 - val_accuracy: 0.6938\n",
            "Epoch 89/150\n",
            "14/14 [==============================] - 1s 36ms/step - loss: 0.6181 - accuracy: 0.6551 - val_loss: 0.6624 - val_accuracy: 0.6077\n",
            "Epoch 90/150\n",
            "14/14 [==============================] - 1s 38ms/step - loss: 0.5847 - accuracy: 0.7215 - val_loss: 0.6297 - val_accuracy: 0.6651\n",
            "Epoch 91/150\n",
            "14/14 [==============================] - 0s 33ms/step - loss: 0.6327 - accuracy: 0.6344 - val_loss: 0.6371 - val_accuracy: 0.6651\n",
            "Epoch 92/150\n",
            "14/14 [==============================] - 0s 35ms/step - loss: 0.6067 - accuracy: 0.6631 - val_loss: 0.6556 - val_accuracy: 0.6124\n",
            "Epoch 93/150\n",
            "14/14 [==============================] - 0s 32ms/step - loss: 0.6167 - accuracy: 0.6901 - val_loss: 0.6323 - val_accuracy: 0.6603\n",
            "Epoch 94/150\n",
            "14/14 [==============================] - 1s 36ms/step - loss: 0.6329 - accuracy: 0.6444 - val_loss: 0.6374 - val_accuracy: 0.6364\n",
            "Epoch 95/150\n",
            "14/14 [==============================] - 0s 33ms/step - loss: 0.5941 - accuracy: 0.6954 - val_loss: 0.6327 - val_accuracy: 0.6746\n",
            "Epoch 96/150\n",
            "14/14 [==============================] - 0s 34ms/step - loss: 0.5532 - accuracy: 0.7323 - val_loss: 0.6478 - val_accuracy: 0.6746\n",
            "Epoch 97/150\n",
            "14/14 [==============================] - 0s 32ms/step - loss: 0.6147 - accuracy: 0.6537 - val_loss: 0.6217 - val_accuracy: 0.6651\n",
            "Epoch 98/150\n",
            "14/14 [==============================] - 0s 35ms/step - loss: 0.6051 - accuracy: 0.6969 - val_loss: 0.6614 - val_accuracy: 0.6603\n",
            "Epoch 99/150\n",
            "14/14 [==============================] - 0s 32ms/step - loss: 0.5608 - accuracy: 0.7253 - val_loss: 0.6624 - val_accuracy: 0.6555\n",
            "Epoch 100/150\n",
            "14/14 [==============================] - 0s 35ms/step - loss: 0.5674 - accuracy: 0.7006 - val_loss: 0.6372 - val_accuracy: 0.6699\n",
            "Epoch 101/150\n",
            "14/14 [==============================] - 0s 33ms/step - loss: 0.6079 - accuracy: 0.6800 - val_loss: 0.6622 - val_accuracy: 0.6029\n",
            "Epoch 102/150\n",
            "14/14 [==============================] - 0s 34ms/step - loss: 0.6163 - accuracy: 0.6438 - val_loss: 0.6904 - val_accuracy: 0.6746\n",
            "Epoch 103/150\n",
            "14/14 [==============================] - 0s 33ms/step - loss: 0.5855 - accuracy: 0.7004 - val_loss: 0.6867 - val_accuracy: 0.6316\n",
            "Epoch 104/150\n",
            "14/14 [==============================] - 0s 33ms/step - loss: 0.5764 - accuracy: 0.6871 - val_loss: 0.6512 - val_accuracy: 0.6890\n",
            "Epoch 105/150\n",
            "14/14 [==============================] - 0s 33ms/step - loss: 0.5699 - accuracy: 0.7301 - val_loss: 0.6910 - val_accuracy: 0.5981\n",
            "Epoch 106/150\n",
            "14/14 [==============================] - 0s 32ms/step - loss: 0.6102 - accuracy: 0.6331 - val_loss: 0.6596 - val_accuracy: 0.6316\n",
            "Epoch 107/150\n",
            "14/14 [==============================] - 0s 32ms/step - loss: 0.5851 - accuracy: 0.6776 - val_loss: 0.6410 - val_accuracy: 0.6268\n",
            "Epoch 108/150\n",
            "14/14 [==============================] - 0s 35ms/step - loss: 0.5710 - accuracy: 0.6989 - val_loss: 0.6720 - val_accuracy: 0.5885\n",
            "Epoch 109/150\n",
            "14/14 [==============================] - 0s 34ms/step - loss: 0.5875 - accuracy: 0.6982 - val_loss: 0.6346 - val_accuracy: 0.6316\n",
            "Epoch 110/150\n",
            "14/14 [==============================] - 1s 35ms/step - loss: 0.5745 - accuracy: 0.7253 - val_loss: 0.6651 - val_accuracy: 0.6507\n",
            "Epoch 111/150\n",
            "14/14 [==============================] - 0s 32ms/step - loss: 0.5741 - accuracy: 0.7181 - val_loss: 0.6542 - val_accuracy: 0.6555\n",
            "Epoch 112/150\n",
            "14/14 [==============================] - 0s 33ms/step - loss: 0.5605 - accuracy: 0.7148 - val_loss: 0.6397 - val_accuracy: 0.6699\n",
            "Epoch 113/150\n",
            "14/14 [==============================] - 0s 33ms/step - loss: 0.5564 - accuracy: 0.7320 - val_loss: 0.7046 - val_accuracy: 0.6364\n",
            "Epoch 114/150\n",
            "14/14 [==============================] - 0s 33ms/step - loss: 0.6418 - accuracy: 0.6500 - val_loss: 0.6556 - val_accuracy: 0.6651\n",
            "Epoch 115/150\n",
            "14/14 [==============================] - 1s 37ms/step - loss: 0.5954 - accuracy: 0.7092 - val_loss: 0.6652 - val_accuracy: 0.6555\n",
            "Epoch 116/150\n",
            "14/14 [==============================] - 1s 37ms/step - loss: 0.5396 - accuracy: 0.7535 - val_loss: 0.6530 - val_accuracy: 0.6746\n",
            "Epoch 117/150\n",
            "14/14 [==============================] - 0s 34ms/step - loss: 0.5958 - accuracy: 0.7022 - val_loss: 0.6488 - val_accuracy: 0.6316\n",
            "Epoch 118/150\n",
            "14/14 [==============================] - 0s 35ms/step - loss: 0.5256 - accuracy: 0.7415 - val_loss: 0.7159 - val_accuracy: 0.6411\n",
            "Epoch 119/150\n",
            "14/14 [==============================] - 0s 34ms/step - loss: 0.5791 - accuracy: 0.6947 - val_loss: 0.6538 - val_accuracy: 0.6890\n",
            "Epoch 120/150\n",
            "14/14 [==============================] - 0s 34ms/step - loss: 0.5718 - accuracy: 0.7089 - val_loss: 0.6439 - val_accuracy: 0.6938\n",
            "Epoch 121/150\n",
            "14/14 [==============================] - 0s 32ms/step - loss: 0.5763 - accuracy: 0.7263 - val_loss: 0.6593 - val_accuracy: 0.6268\n",
            "Epoch 122/150\n",
            "14/14 [==============================] - 0s 34ms/step - loss: 0.5603 - accuracy: 0.7023 - val_loss: 0.6858 - val_accuracy: 0.6842\n",
            "Epoch 123/150\n",
            "14/14 [==============================] - 0s 34ms/step - loss: 0.5635 - accuracy: 0.7047 - val_loss: 0.6570 - val_accuracy: 0.6651\n",
            "Epoch 124/150\n",
            "14/14 [==============================] - 1s 35ms/step - loss: 0.5664 - accuracy: 0.7048 - val_loss: 0.6418 - val_accuracy: 0.7033\n",
            "Epoch 125/150\n",
            "14/14 [==============================] - 0s 33ms/step - loss: 0.5440 - accuracy: 0.7454 - val_loss: 0.7394 - val_accuracy: 0.6842\n",
            "Epoch 126/150\n",
            "14/14 [==============================] - 0s 34ms/step - loss: 0.5345 - accuracy: 0.7105 - val_loss: 0.6633 - val_accuracy: 0.6651\n",
            "Epoch 127/150\n",
            "14/14 [==============================] - 0s 33ms/step - loss: 0.5569 - accuracy: 0.7178 - val_loss: 0.6221 - val_accuracy: 0.6794\n",
            "Epoch 128/150\n",
            "14/14 [==============================] - 0s 33ms/step - loss: 0.5477 - accuracy: 0.7165 - val_loss: 0.7038 - val_accuracy: 0.6842\n",
            "Epoch 129/150\n",
            "14/14 [==============================] - 0s 35ms/step - loss: 0.5502 - accuracy: 0.7120 - val_loss: 0.6234 - val_accuracy: 0.6842\n",
            "Epoch 130/150\n",
            "14/14 [==============================] - 0s 33ms/step - loss: 0.5404 - accuracy: 0.7164 - val_loss: 0.7198 - val_accuracy: 0.6746\n",
            "Epoch 131/150\n",
            "14/14 [==============================] - 1s 35ms/step - loss: 0.6276 - accuracy: 0.6302 - val_loss: 0.6611 - val_accuracy: 0.6555\n",
            "Epoch 132/150\n",
            "14/14 [==============================] - 0s 33ms/step - loss: 0.5784 - accuracy: 0.7160 - val_loss: 0.6453 - val_accuracy: 0.6938\n",
            "Epoch 133/150\n",
            "14/14 [==============================] - 0s 33ms/step - loss: 0.4959 - accuracy: 0.7373 - val_loss: 0.7062 - val_accuracy: 0.6842\n",
            "Epoch 134/150\n",
            "14/14 [==============================] - 0s 33ms/step - loss: 0.5059 - accuracy: 0.7980 - val_loss: 0.6269 - val_accuracy: 0.6986\n",
            "Epoch 135/150\n",
            "14/14 [==============================] - 1s 36ms/step - loss: 0.5439 - accuracy: 0.7576 - val_loss: 0.5864 - val_accuracy: 0.6938\n",
            "Epoch 136/150\n",
            "14/14 [==============================] - 0s 34ms/step - loss: 0.5335 - accuracy: 0.7382 - val_loss: 0.6236 - val_accuracy: 0.6938\n",
            "Epoch 137/150\n",
            "14/14 [==============================] - 1s 36ms/step - loss: 0.5139 - accuracy: 0.7437 - val_loss: 0.6731 - val_accuracy: 0.6842\n",
            "Epoch 138/150\n",
            "14/14 [==============================] - 0s 34ms/step - loss: 0.5489 - accuracy: 0.7096 - val_loss: 0.6384 - val_accuracy: 0.7225\n",
            "Epoch 139/150\n",
            "14/14 [==============================] - 1s 35ms/step - loss: 0.5054 - accuracy: 0.7703 - val_loss: 0.6021 - val_accuracy: 0.7033\n",
            "Epoch 140/150\n",
            "14/14 [==============================] - 0s 34ms/step - loss: 0.5162 - accuracy: 0.7253 - val_loss: 0.5582 - val_accuracy: 0.7464\n",
            "Epoch 141/150\n",
            "14/14 [==============================] - 0s 35ms/step - loss: 0.4732 - accuracy: 0.8104 - val_loss: 0.6495 - val_accuracy: 0.6938\n",
            "Epoch 142/150\n",
            "14/14 [==============================] - 0s 33ms/step - loss: 0.5482 - accuracy: 0.7128 - val_loss: 0.6087 - val_accuracy: 0.7273\n",
            "Epoch 143/150\n",
            "14/14 [==============================] - 0s 32ms/step - loss: 0.5244 - accuracy: 0.7421 - val_loss: 0.6276 - val_accuracy: 0.7225\n",
            "Epoch 144/150\n",
            "14/14 [==============================] - 1s 37ms/step - loss: 0.5196 - accuracy: 0.7454 - val_loss: 0.6647 - val_accuracy: 0.6364\n",
            "Epoch 145/150\n",
            "14/14 [==============================] - 0s 33ms/step - loss: 0.5836 - accuracy: 0.6905 - val_loss: 0.5926 - val_accuracy: 0.7081\n",
            "Epoch 146/150\n",
            "14/14 [==============================] - 0s 34ms/step - loss: 0.4988 - accuracy: 0.7655 - val_loss: 0.5765 - val_accuracy: 0.7225\n",
            "Epoch 147/150\n",
            "14/14 [==============================] - 0s 33ms/step - loss: 0.4683 - accuracy: 0.7810 - val_loss: 0.6012 - val_accuracy: 0.7081\n",
            "Epoch 148/150\n",
            "14/14 [==============================] - 0s 33ms/step - loss: 0.4719 - accuracy: 0.7541 - val_loss: 0.6137 - val_accuracy: 0.7273\n",
            "Epoch 149/150\n",
            "14/14 [==============================] - 0s 33ms/step - loss: 0.4357 - accuracy: 0.8159 - val_loss: 0.8987 - val_accuracy: 0.6364\n",
            "Epoch 150/150\n",
            "14/14 [==============================] - 0s 35ms/step - loss: 0.6289 - accuracy: 0.6894 - val_loss: 0.6402 - val_accuracy: 0.6555\n"
          ],
          "name": "stdout"
        }
      ]
    },
    {
      "cell_type": "code",
      "metadata": {
        "colab": {
          "base_uri": "https://localhost:8080/",
          "height": 513
        },
        "id": "MUTAQM78dr1E",
        "outputId": "ca8c1a2e-6867-47d5-ea3a-98b7450f9cee"
      },
      "source": [
        "import matplotlib.pyplot as plt\n",
        "\n",
        "train_loss = history.history['loss'] \n",
        "train_acc = history.history['accuracy'] \n",
        "val_loss = history.history['val_loss'] \n",
        "val_acc = history.history['val_accuracy'] \n",
        "\n",
        "plt.plot(np.arange(len(train_loss)), train_loss, label='train_loss')\n",
        "plt.plot(np.arange(len(val_loss)), val_loss, label='test_val_loss')\n",
        "plt.legend()\n",
        "plt.show()\n",
        "\n",
        "plt.plot(np.arange(len(train_acc)), train_acc, label='train_acc')\n",
        "plt.plot(np.arange(len(val_acc)), val_acc, label='test_acc')\n",
        "plt.legend()\n",
        "plt.show()"
      ],
      "execution_count": null,
      "outputs": [
        {
          "output_type": "display_data",
          "data": {
            "image/png": "[encoded data removed]",
            "text/plain": [
              "<Figure size 432x288 with 1 Axes>"
            ]
          },
          "metadata": {
            "tags": [],
            "needs_background": "light"
          }
        },
        {
          "output_type": "display_data",
          "data": {
            "image/png": "[encoded data removed]",
            "text/plain": [
              "<Figure size 432x288 with 1 Axes>"
            ]
          },
          "metadata": {
            "tags": [],
            "needs_background": "light"
          }
        }
      ]
    },
    {
      "cell_type": "code",
      "metadata": {
        "colab": {
          "base_uri": "https://localhost:8080/"
        },
        "id": "afqJ80aGRJvM",
        "outputId": "7fcc1353-5974-466f-ad00-e35e32c9f239"
      },
      "source": [
        "loss, accuracy = model.evaluate(x_test, t_test)\n",
        "print(loss, accuracy)"
      ],
      "execution_count": null,
      "outputs": [
        {
          "output_type": "stream",
          "text": [
            "7/7 [==============================] - 0s 5ms/step - loss: 1.1478 - accuracy: 0.8373\n",
            "1.1477946043014526 0.8373205661773682\n"
          ],
          "name": "stdout"
        }
      ]
    },
    {
      "cell_type": "code",
      "metadata": {
        "id": "BROLrDfaRS7I"
      },
      "source": [
        "from google.colab import files\n",
        "\n",
        "# 「include_optimizer=false」 = 推論用のデータのみ\n",
        "model.save(\"image_classifier.h5\",  include_optimizer=False)\n",
        "files.download(\"image_classifier.h5\")"
      ],
      "execution_count": null,
      "outputs": []
    },
    {
      "cell_type": "markdown",
      "metadata": {
        "id": "klFmiBHEdrQt"
      },
      "source": [
        ""
      ]
    }
  ]
}