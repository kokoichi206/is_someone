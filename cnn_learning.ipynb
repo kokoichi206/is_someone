{
  "nbformat": 4,
  "nbformat_minor": 0,
  "metadata": {
    "colab": {
      "name": "cnn_learning.ipynb",
      "provenance": [],
      "collapsed_sections": [],
      "authorship_tag": "ABX9TyNQtBlxXFXwj9wtvQCvbYjl",
      "include_colab_link": true
    },
    "kernelspec": {
      "name": "python3",
      "display_name": "Python 3"
    },
    "language_info": {
      "name": "python"
    },
    "accelerator": "GPU"
  },
  "cells": [
    {
      "cell_type": "markdown",
      "metadata": {
        "id": "view-in-github",
        "colab_type": "text"
      },
      "source": [
        "<a href=\"https://colab.research.google.com/github/kokoichi206/is_someone/blob/main/cnn_learning.ipynb\" target=\"_parent\"><img src=\"https://colab.research.google.com/assets/colab-badge.svg\" alt=\"Open In Colab\"/></a>"
      ]
    },
    {
      "cell_type": "code",
      "metadata": {
        "colab": {
          "base_uri": "https://localhost:8080/",
          "height": 1000
        },
        "id": "Ul2ZcnPMc8UW",
        "outputId": "bc947bc0-df6b-438f-decb-8f77ae923cc6"
      },
      "source": [
        "!pip uninstall keras -y\n",
        "!pip uninstall keras-nightly -y\n",
        "!pip uninstall keras-Preprocessing -y\n",
        "!pip uninstall keras-vis -y\n",
        "!pip uninstall tensorflow -y\n",
        "\n",
        "!pip install tensorflow==2.3.0\n",
        "!pip install keras==2.4"
      ],
      "execution_count": null,
      "outputs": [
        {
          "output_type": "stream",
          "text": [
            "Uninstalling Keras-2.4.0:\n",
            "  Successfully uninstalled Keras-2.4.0\n",
            "\u001b[33mWARNING: Skipping keras-nightly as it is not installed.\u001b[0m\n",
            "Uninstalling Keras-Preprocessing-1.1.2:\n",
            "  Successfully uninstalled Keras-Preprocessing-1.1.2\n",
            "\u001b[33mWARNING: Skipping keras-vis as it is not installed.\u001b[0m\n",
            "Uninstalling tensorflow-2.3.0:\n",
            "  Successfully uninstalled tensorflow-2.3.0\n",
            "Collecting tensorflow==2.3.0\n",
            "  Using cached https://files.pythonhosted.org/packages/16/89/f2d29c2eafc2eeafb17d5634340e06366af904d332341200a49d954bce85/tensorflow-2.3.0-cp37-cp37m-manylinux2010_x86_64.whl\n",
            "Requirement already satisfied: h5py<2.11.0,>=2.10.0 in /usr/local/lib/python3.7/dist-packages (from tensorflow==2.3.0) (2.10.0)\n",
            "Requirement already satisfied: google-pasta>=0.1.8 in /usr/local/lib/python3.7/dist-packages (from tensorflow==2.3.0) (0.2.0)\n",
            "Requirement already satisfied: gast==0.3.3 in /usr/local/lib/python3.7/dist-packages (from tensorflow==2.3.0) (0.3.3)\n",
            "Requirement already satisfied: protobuf>=3.9.2 in /usr/local/lib/python3.7/dist-packages (from tensorflow==2.3.0) (3.17.3)\n",
            "Requirement already satisfied: absl-py>=0.7.0 in /usr/local/lib/python3.7/dist-packages (from tensorflow==2.3.0) (0.12.0)\n",
            "Requirement already satisfied: numpy<1.19.0,>=1.16.0 in /usr/local/lib/python3.7/dist-packages (from tensorflow==2.3.0) (1.18.5)\n",
            "Requirement already satisfied: tensorflow-estimator<2.4.0,>=2.3.0 in /usr/local/lib/python3.7/dist-packages (from tensorflow==2.3.0) (2.3.0)\n",
            "Requirement already satisfied: tensorboard<3,>=2.3.0 in /usr/local/lib/python3.7/dist-packages (from tensorflow==2.3.0) (2.5.0)\n",
            "Requirement already satisfied: wrapt>=1.11.1 in /usr/local/lib/python3.7/dist-packages (from tensorflow==2.3.0) (1.12.1)\n",
            "Requirement already satisfied: wheel>=0.26 in /usr/local/lib/python3.7/dist-packages (from tensorflow==2.3.0) (0.36.2)\n",
            "Requirement already satisfied: six>=1.12.0 in /usr/local/lib/python3.7/dist-packages (from tensorflow==2.3.0) (1.15.0)\n",
            "Requirement already satisfied: astunparse==1.6.3 in /usr/local/lib/python3.7/dist-packages (from tensorflow==2.3.0) (1.6.3)\n",
            "Requirement already satisfied: scipy==1.4.1 in /usr/local/lib/python3.7/dist-packages (from tensorflow==2.3.0) (1.4.1)\n",
            "Requirement already satisfied: grpcio>=1.8.6 in /usr/local/lib/python3.7/dist-packages (from tensorflow==2.3.0) (1.34.1)\n",
            "Requirement already satisfied: termcolor>=1.1.0 in /usr/local/lib/python3.7/dist-packages (from tensorflow==2.3.0) (1.1.0)\n",
            "Requirement already satisfied: opt-einsum>=2.3.2 in /usr/local/lib/python3.7/dist-packages (from tensorflow==2.3.0) (3.3.0)\n",
            "Collecting keras-preprocessing<1.2,>=1.1.1\n",
            "  Using cached https://files.pythonhosted.org/packages/79/4c/7c3275a01e12ef9368a892926ab932b33bb13d55794881e3573482b378a7/Keras_Preprocessing-1.1.2-py2.py3-none-any.whl\n",
            "Requirement already satisfied: werkzeug>=0.11.15 in /usr/local/lib/python3.7/dist-packages (from tensorboard<3,>=2.3.0->tensorflow==2.3.0) (1.0.1)\n",
            "Requirement already satisfied: google-auth-oauthlib<0.5,>=0.4.1 in /usr/local/lib/python3.7/dist-packages (from tensorboard<3,>=2.3.0->tensorflow==2.3.0) (0.4.4)\n",
            "Requirement already satisfied: setuptools>=41.0.0 in /usr/local/lib/python3.7/dist-packages (from tensorboard<3,>=2.3.0->tensorflow==2.3.0) (57.0.0)\n",
            "Requirement already satisfied: google-auth<2,>=1.6.3 in /usr/local/lib/python3.7/dist-packages (from tensorboard<3,>=2.3.0->tensorflow==2.3.0) (1.32.1)\n",
            "Requirement already satisfied: tensorboard-data-server<0.7.0,>=0.6.0 in /usr/local/lib/python3.7/dist-packages (from tensorboard<3,>=2.3.0->tensorflow==2.3.0) (0.6.1)\n",
            "Requirement already satisfied: requests<3,>=2.21.0 in /usr/local/lib/python3.7/dist-packages (from tensorboard<3,>=2.3.0->tensorflow==2.3.0) (2.23.0)\n",
            "Requirement already satisfied: markdown>=2.6.8 in /usr/local/lib/python3.7/dist-packages (from tensorboard<3,>=2.3.0->tensorflow==2.3.0) (3.3.4)\n",
            "Requirement already satisfied: tensorboard-plugin-wit>=1.6.0 in /usr/local/lib/python3.7/dist-packages (from tensorboard<3,>=2.3.0->tensorflow==2.3.0) (1.8.0)\n",
            "Requirement already satisfied: requests-oauthlib>=0.7.0 in /usr/local/lib/python3.7/dist-packages (from google-auth-oauthlib<0.5,>=0.4.1->tensorboard<3,>=2.3.0->tensorflow==2.3.0) (1.3.0)\n",
            "Requirement already satisfied: pyasn1-modules>=0.2.1 in /usr/local/lib/python3.7/dist-packages (from google-auth<2,>=1.6.3->tensorboard<3,>=2.3.0->tensorflow==2.3.0) (0.2.8)\n",
            "Requirement already satisfied: cachetools<5.0,>=2.0.0 in /usr/local/lib/python3.7/dist-packages (from google-auth<2,>=1.6.3->tensorboard<3,>=2.3.0->tensorflow==2.3.0) (4.2.2)\n",
            "Requirement already satisfied: rsa<5,>=3.1.4; python_version >= \"3.6\" in /usr/local/lib/python3.7/dist-packages (from google-auth<2,>=1.6.3->tensorboard<3,>=2.3.0->tensorflow==2.3.0) (4.7.2)\n",
            "Requirement already satisfied: chardet<4,>=3.0.2 in /usr/local/lib/python3.7/dist-packages (from requests<3,>=2.21.0->tensorboard<3,>=2.3.0->tensorflow==2.3.0) (3.0.4)\n",
            "Requirement already satisfied: certifi>=2017.4.17 in /usr/local/lib/python3.7/dist-packages (from requests<3,>=2.21.0->tensorboard<3,>=2.3.0->tensorflow==2.3.0) (2021.5.30)\n",
            "Requirement already satisfied: idna<3,>=2.5 in /usr/local/lib/python3.7/dist-packages (from requests<3,>=2.21.0->tensorboard<3,>=2.3.0->tensorflow==2.3.0) (2.10)\n",
            "Requirement already satisfied: urllib3!=1.25.0,!=1.25.1,<1.26,>=1.21.1 in /usr/local/lib/python3.7/dist-packages (from requests<3,>=2.21.0->tensorboard<3,>=2.3.0->tensorflow==2.3.0) (1.24.3)\n",
            "Requirement already satisfied: importlib-metadata; python_version < \"3.8\" in /usr/local/lib/python3.7/dist-packages (from markdown>=2.6.8->tensorboard<3,>=2.3.0->tensorflow==2.3.0) (4.6.0)\n",
            "Requirement already satisfied: oauthlib>=3.0.0 in /usr/local/lib/python3.7/dist-packages (from requests-oauthlib>=0.7.0->google-auth-oauthlib<0.5,>=0.4.1->tensorboard<3,>=2.3.0->tensorflow==2.3.0) (3.1.1)\n",
            "Requirement already satisfied: pyasn1<0.5.0,>=0.4.6 in /usr/local/lib/python3.7/dist-packages (from pyasn1-modules>=0.2.1->google-auth<2,>=1.6.3->tensorboard<3,>=2.3.0->tensorflow==2.3.0) (0.4.8)\n",
            "Requirement already satisfied: typing-extensions>=3.6.4; python_version < \"3.8\" in /usr/local/lib/python3.7/dist-packages (from importlib-metadata; python_version < \"3.8\"->markdown>=2.6.8->tensorboard<3,>=2.3.0->tensorflow==2.3.0) (3.7.4.3)\n",
            "Requirement already satisfied: zipp>=0.5 in /usr/local/lib/python3.7/dist-packages (from importlib-metadata; python_version < \"3.8\"->markdown>=2.6.8->tensorboard<3,>=2.3.0->tensorflow==2.3.0) (3.4.1)\n",
            "Installing collected packages: keras-preprocessing, tensorflow\n",
            "Successfully installed keras-preprocessing-1.1.2 tensorflow-2.3.0\n"
          ],
          "name": "stdout"
        },
        {
          "output_type": "display_data",
          "data": {
            "application/vnd.colab-display-data+json": {
              "pip_warning": {
                "packages": [
                  "keras_preprocessing",
                  "tensorflow"
                ]
              }
            }
          },
          "metadata": {
            "tags": []
          }
        },
        {
          "output_type": "stream",
          "text": [
            "Collecting keras==2.4\n",
            "  Using cached https://files.pythonhosted.org/packages/b6/19/9d8f1c86c09d05369da39b03d011cd689edef86c0e6b2777dbcedc49dfc6/Keras-2.4.0-py2.py3-none-any.whl\n",
            "Requirement already satisfied: h5py in /usr/local/lib/python3.7/dist-packages (from keras==2.4) (2.10.0)\n",
            "Requirement already satisfied: pyyaml in /usr/local/lib/python3.7/dist-packages (from keras==2.4) (3.13)\n",
            "Requirement already satisfied: tensorflow>=2.2.0 in /usr/local/lib/python3.7/dist-packages (from keras==2.4) (2.3.0)\n",
            "Requirement already satisfied: numpy>=1.9.1 in /usr/local/lib/python3.7/dist-packages (from keras==2.4) (1.18.5)\n",
            "Requirement already satisfied: scipy>=0.14 in /usr/local/lib/python3.7/dist-packages (from keras==2.4) (1.4.1)\n",
            "Requirement already satisfied: six in /usr/local/lib/python3.7/dist-packages (from h5py->keras==2.4) (1.15.0)\n",
            "Requirement already satisfied: astunparse==1.6.3 in /usr/local/lib/python3.7/dist-packages (from tensorflow>=2.2.0->keras==2.4) (1.6.3)\n",
            "Requirement already satisfied: protobuf>=3.9.2 in /usr/local/lib/python3.7/dist-packages (from tensorflow>=2.2.0->keras==2.4) (3.17.3)\n",
            "Requirement already satisfied: grpcio>=1.8.6 in /usr/local/lib/python3.7/dist-packages (from tensorflow>=2.2.0->keras==2.4) (1.34.1)\n",
            "Requirement already satisfied: google-pasta>=0.1.8 in /usr/local/lib/python3.7/dist-packages (from tensorflow>=2.2.0->keras==2.4) (0.2.0)\n",
            "Requirement already satisfied: absl-py>=0.7.0 in /usr/local/lib/python3.7/dist-packages (from tensorflow>=2.2.0->keras==2.4) (0.12.0)\n",
            "Requirement already satisfied: opt-einsum>=2.3.2 in /usr/local/lib/python3.7/dist-packages (from tensorflow>=2.2.0->keras==2.4) (3.3.0)\n",
            "Requirement already satisfied: wrapt>=1.11.1 in /usr/local/lib/python3.7/dist-packages (from tensorflow>=2.2.0->keras==2.4) (1.12.1)\n",
            "Requirement already satisfied: tensorboard<3,>=2.3.0 in /usr/local/lib/python3.7/dist-packages (from tensorflow>=2.2.0->keras==2.4) (2.5.0)\n",
            "Requirement already satisfied: termcolor>=1.1.0 in /usr/local/lib/python3.7/dist-packages (from tensorflow>=2.2.0->keras==2.4) (1.1.0)\n",
            "Requirement already satisfied: gast==0.3.3 in /usr/local/lib/python3.7/dist-packages (from tensorflow>=2.2.0->keras==2.4) (0.3.3)\n",
            "Requirement already satisfied: tensorflow-estimator<2.4.0,>=2.3.0 in /usr/local/lib/python3.7/dist-packages (from tensorflow>=2.2.0->keras==2.4) (2.3.0)\n",
            "Requirement already satisfied: keras-preprocessing<1.2,>=1.1.1 in /usr/local/lib/python3.7/dist-packages (from tensorflow>=2.2.0->keras==2.4) (1.1.2)\n",
            "Requirement already satisfied: wheel>=0.26 in /usr/local/lib/python3.7/dist-packages (from tensorflow>=2.2.0->keras==2.4) (0.36.2)\n",
            "Requirement already satisfied: tensorboard-plugin-wit>=1.6.0 in /usr/local/lib/python3.7/dist-packages (from tensorboard<3,>=2.3.0->tensorflow>=2.2.0->keras==2.4) (1.8.0)\n",
            "Requirement already satisfied: google-auth<2,>=1.6.3 in /usr/local/lib/python3.7/dist-packages (from tensorboard<3,>=2.3.0->tensorflow>=2.2.0->keras==2.4) (1.32.1)\n",
            "Requirement already satisfied: markdown>=2.6.8 in /usr/local/lib/python3.7/dist-packages (from tensorboard<3,>=2.3.0->tensorflow>=2.2.0->keras==2.4) (3.3.4)\n",
            "Requirement already satisfied: tensorboard-data-server<0.7.0,>=0.6.0 in /usr/local/lib/python3.7/dist-packages (from tensorboard<3,>=2.3.0->tensorflow>=2.2.0->keras==2.4) (0.6.1)\n",
            "Requirement already satisfied: google-auth-oauthlib<0.5,>=0.4.1 in /usr/local/lib/python3.7/dist-packages (from tensorboard<3,>=2.3.0->tensorflow>=2.2.0->keras==2.4) (0.4.4)\n",
            "Requirement already satisfied: werkzeug>=0.11.15 in /usr/local/lib/python3.7/dist-packages (from tensorboard<3,>=2.3.0->tensorflow>=2.2.0->keras==2.4) (1.0.1)\n",
            "Requirement already satisfied: setuptools>=41.0.0 in /usr/local/lib/python3.7/dist-packages (from tensorboard<3,>=2.3.0->tensorflow>=2.2.0->keras==2.4) (57.0.0)\n",
            "Requirement already satisfied: requests<3,>=2.21.0 in /usr/local/lib/python3.7/dist-packages (from tensorboard<3,>=2.3.0->tensorflow>=2.2.0->keras==2.4) (2.23.0)\n",
            "Requirement already satisfied: cachetools<5.0,>=2.0.0 in /usr/local/lib/python3.7/dist-packages (from google-auth<2,>=1.6.3->tensorboard<3,>=2.3.0->tensorflow>=2.2.0->keras==2.4) (4.2.2)\n",
            "Requirement already satisfied: pyasn1-modules>=0.2.1 in /usr/local/lib/python3.7/dist-packages (from google-auth<2,>=1.6.3->tensorboard<3,>=2.3.0->tensorflow>=2.2.0->keras==2.4) (0.2.8)\n",
            "Requirement already satisfied: rsa<5,>=3.1.4; python_version >= \"3.6\" in /usr/local/lib/python3.7/dist-packages (from google-auth<2,>=1.6.3->tensorboard<3,>=2.3.0->tensorflow>=2.2.0->keras==2.4) (4.7.2)\n",
            "Requirement already satisfied: importlib-metadata; python_version < \"3.8\" in /usr/local/lib/python3.7/dist-packages (from markdown>=2.6.8->tensorboard<3,>=2.3.0->tensorflow>=2.2.0->keras==2.4) (4.6.0)\n",
            "Requirement already satisfied: requests-oauthlib>=0.7.0 in /usr/local/lib/python3.7/dist-packages (from google-auth-oauthlib<0.5,>=0.4.1->tensorboard<3,>=2.3.0->tensorflow>=2.2.0->keras==2.4) (1.3.0)\n",
            "Requirement already satisfied: idna<3,>=2.5 in /usr/local/lib/python3.7/dist-packages (from requests<3,>=2.21.0->tensorboard<3,>=2.3.0->tensorflow>=2.2.0->keras==2.4) (2.10)\n",
            "Requirement already satisfied: certifi>=2017.4.17 in /usr/local/lib/python3.7/dist-packages (from requests<3,>=2.21.0->tensorboard<3,>=2.3.0->tensorflow>=2.2.0->keras==2.4) (2021.5.30)\n",
            "Requirement already satisfied: urllib3!=1.25.0,!=1.25.1,<1.26,>=1.21.1 in /usr/local/lib/python3.7/dist-packages (from requests<3,>=2.21.0->tensorboard<3,>=2.3.0->tensorflow>=2.2.0->keras==2.4) (1.24.3)\n",
            "Requirement already satisfied: chardet<4,>=3.0.2 in /usr/local/lib/python3.7/dist-packages (from requests<3,>=2.21.0->tensorboard<3,>=2.3.0->tensorflow>=2.2.0->keras==2.4) (3.0.4)\n",
            "Requirement already satisfied: pyasn1<0.5.0,>=0.4.6 in /usr/local/lib/python3.7/dist-packages (from pyasn1-modules>=0.2.1->google-auth<2,>=1.6.3->tensorboard<3,>=2.3.0->tensorflow>=2.2.0->keras==2.4) (0.4.8)\n",
            "Requirement already satisfied: zipp>=0.5 in /usr/local/lib/python3.7/dist-packages (from importlib-metadata; python_version < \"3.8\"->markdown>=2.6.8->tensorboard<3,>=2.3.0->tensorflow>=2.2.0->keras==2.4) (3.4.1)\n",
            "Requirement already satisfied: typing-extensions>=3.6.4; python_version < \"3.8\" in /usr/local/lib/python3.7/dist-packages (from importlib-metadata; python_version < \"3.8\"->markdown>=2.6.8->tensorboard<3,>=2.3.0->tensorflow>=2.2.0->keras==2.4) (3.7.4.3)\n",
            "Requirement already satisfied: oauthlib>=3.0.0 in /usr/local/lib/python3.7/dist-packages (from requests-oauthlib>=0.7.0->google-auth-oauthlib<0.5,>=0.4.1->tensorboard<3,>=2.3.0->tensorflow>=2.2.0->keras==2.4) (3.1.1)\n",
            "Installing collected packages: keras\n",
            "Successfully installed keras-2.4.0\n"
          ],
          "name": "stdout"
        },
        {
          "output_type": "display_data",
          "data": {
            "application/vnd.colab-display-data+json": {
              "pip_warning": {
                "packages": [
                  "keras"
                ]
              }
            }
          },
          "metadata": {
            "tags": []
          }
        }
      ]
    },
    {
      "cell_type": "code",
      "metadata": {
        "colab": {
          "base_uri": "https://localhost:8080/"
        },
        "id": "yRU-xSdi8RKr",
        "outputId": "56fbd8d7-58e1-462d-f7ed-d8c45859ca02"
      },
      "source": [
        "from google.colab import drive\n",
        "drive.mount('/content/drive')"
      ],
      "execution_count": 2,
      "outputs": [
        {
          "output_type": "stream",
          "text": [
            "Mounted at /content/drive\n"
          ],
          "name": "stdout"
        }
      ]
    },
    {
      "cell_type": "code",
      "metadata": {
        "id": "TLOt7O0lw08x"
      },
      "source": [
        "import numpy as np\n",
        "\n",
        "datasets = np.load(\"drive/My Drive/Colab Notebooks/ml_2021/dataset/dataset.npz\")\n",
        "\n",
        "x_train = datasets['X_train']\n",
        "x_test = datasets['X_test']\n",
        "t_train = datasets['y_train']\n",
        "t_test = datasets['y_test']"
      ],
      "execution_count": 3,
      "outputs": []
    },
    {
      "cell_type": "code",
      "metadata": {
        "colab": {
          "base_uri": "https://localhost:8080/"
        },
        "id": "qBuZ3iqf9Re9",
        "outputId": "ba6944cd-7961-46f7-a16b-07e58f3c134d"
      },
      "source": [
        "print(len(x_train))\n",
        "print(len(t_test))\n",
        "print(len(x_train[0]))\n",
        "print(len(t_train[0]))"
      ],
      "execution_count": 4,
      "outputs": [
        {
          "output_type": "stream",
          "text": [
            "424\n",
            "209\n",
            "50\n",
            "2\n"
          ],
          "name": "stdout"
        }
      ]
    },
    {
      "cell_type": "code",
      "metadata": {
        "colab": {
          "base_uri": "https://localhost:8080/"
        },
        "id": "sFInvStXO2ov",
        "outputId": "b7d6b48c-f2eb-403e-ce10-b69c4577351a"
      },
      "source": [
        "print(x_train[0])\n",
        "print(t_train[0])\n",
        "# x_train[0]"
      ],
      "execution_count": 4,
      "outputs": [
        {
          "output_type": "stream",
          "text": [
            "[[[0.00392157 0.         0.        ]\n",
            "  [0.00392157 0.         0.        ]\n",
            "  [0.00392157 0.         0.        ]\n",
            "  ...\n",
            "  [0.         0.01568628 0.        ]\n",
            "  [0.         0.00392157 0.        ]\n",
            "  [0.         0.00392157 0.        ]]\n",
            "\n",
            " [[0.         0.         0.        ]\n",
            "  [0.         0.         0.        ]\n",
            "  [0.         0.         0.        ]\n",
            "  ...\n",
            "  [0.         0.01176471 0.        ]\n",
            "  [0.         0.         0.        ]\n",
            "  [0.         0.         0.        ]]\n",
            "\n",
            " [[0.         0.         0.        ]\n",
            "  [0.         0.         0.        ]\n",
            "  [0.         0.         0.        ]\n",
            "  ...\n",
            "  [0.         0.00392157 0.        ]\n",
            "  [0.         0.         0.        ]\n",
            "  [0.         0.         0.        ]]\n",
            "\n",
            " ...\n",
            "\n",
            " [[0.         0.         0.01960784]\n",
            "  [0.14901961 0.16862746 0.18431373]\n",
            "  [0.6862745  0.7058824  0.72156864]\n",
            "  ...\n",
            "  [0.84705883 0.9254902  0.9607843 ]\n",
            "  [0.827451   0.8862745  0.90588236]\n",
            "  [0.81960785 0.8784314  0.8980392 ]]\n",
            "\n",
            " [[0.00392157 0.00784314 0.02352941]\n",
            "  [0.15686275 0.17254902 0.18431373]\n",
            "  [0.7254902  0.7372549  0.75686276]\n",
            "  ...\n",
            "  [0.8627451  0.9019608  0.90588236]\n",
            "  [0.8901961  0.93333334 0.95686275]\n",
            "  [0.89411765 0.9372549  0.9607843 ]]\n",
            "\n",
            " [[0.00392157 0.00784314 0.02352941]\n",
            "  [0.16078432 0.1764706  0.1882353 ]\n",
            "  [0.7372549  0.7490196  0.76862746]\n",
            "  ...\n",
            "  [0.8745098  0.9137255  0.91764706]\n",
            "  [0.8627451  0.90588236 0.92941177]\n",
            "  [0.8627451  0.90588236 0.92941177]]]\n",
            "[1. 0.]\n"
          ],
          "name": "stdout"
        }
      ]
    },
    {
      "cell_type": "code",
      "metadata": {
        "id": "85RJexq69iQG"
      },
      "source": [
        "import tensorflow\n",
        "import keras\n",
        "from keras.preprocessing.image import ImageDataGenerator"
      ],
      "execution_count": 5,
      "outputs": []
    },
    {
      "cell_type": "code",
      "metadata": {
        "colab": {
          "base_uri": "https://localhost:8080/"
        },
        "id": "R_TilJrs99fp",
        "outputId": "1f47d1be-1a00-422d-cf32-d6799e000e48"
      },
      "source": [
        "from keras.models import Sequential\n",
        "from keras.layers import Dense, Dropout, Activation, Flatten\n",
        "from keras.layers import Conv2D, MaxPooling2D\n",
        "from keras.optimizers import Adam\n",
        "from tensorflow.keras.utils import to_categorical\n",
        "\n",
        "\n",
        "batch_size = 16\n",
        "epochs = 50\n",
        "n_class = 2\n",
        "\n",
        "# t_train = to_categorical(t_train, n_class)  # one-hot表現に\n",
        "# t_test = to_categorical(t_test, n_class)\n",
        "\n",
        "model = Sequential()\n",
        "\n",
        "model.add(Conv2D(32, (3, 3), padding='same', input_shape=x_train.shape[1:]))  # ゼロパディング、バッチサイズ以外の画像の形状を指定\n",
        "model.add(Activation('relu'))\n",
        "model.add(Conv2D(32, (3, 3)))\n",
        "model.add(Activation('relu'))\n",
        "model.add(MaxPooling2D(pool_size=(2, 2)))\n",
        "\n",
        "model.add(Conv2D(64, (3, 3), padding='same'))\n",
        "model.add(Activation('relu'))\n",
        "model.add(Conv2D(64, (3, 3)))\n",
        "model.add(Activation('relu'))\n",
        "model.add(MaxPooling2D(pool_size=(2, 2)))\n",
        "\n",
        "model.add(Flatten())  # 一次元の配列に変換\n",
        "model.add(Dense(256))\n",
        "model.add(Activation('relu'))\n",
        "model.add(Dropout(0.5))  # ドロップアウト\n",
        "model.add(Dense(n_class))\n",
        "model.add(Activation('softmax'))\n",
        "\n",
        "model.compile(optimizer=Adam(), loss='categorical_crossentropy', metrics=['accuracy'])\n",
        "model.summary()"
      ],
      "execution_count": 9,
      "outputs": [
        {
          "output_type": "stream",
          "text": [
            "Model: \"sequential_2\"\n",
            "_________________________________________________________________\n",
            "Layer (type)                 Output Shape              Param #   \n",
            "=================================================================\n",
            "conv2d_4 (Conv2D)            (None, 50, 50, 32)        896       \n",
            "_________________________________________________________________\n",
            "activation_6 (Activation)    (None, 50, 50, 32)        0         \n",
            "_________________________________________________________________\n",
            "conv2d_5 (Conv2D)            (None, 48, 48, 32)        9248      \n",
            "_________________________________________________________________\n",
            "activation_7 (Activation)    (None, 48, 48, 32)        0         \n",
            "_________________________________________________________________\n",
            "max_pooling2d_2 (MaxPooling2 (None, 24, 24, 32)        0         \n",
            "_________________________________________________________________\n",
            "conv2d_6 (Conv2D)            (None, 24, 24, 64)        18496     \n",
            "_________________________________________________________________\n",
            "activation_8 (Activation)    (None, 24, 24, 64)        0         \n",
            "_________________________________________________________________\n",
            "conv2d_7 (Conv2D)            (None, 22, 22, 64)        36928     \n",
            "_________________________________________________________________\n",
            "activation_9 (Activation)    (None, 22, 22, 64)        0         \n",
            "_________________________________________________________________\n",
            "max_pooling2d_3 (MaxPooling2 (None, 11, 11, 64)        0         \n",
            "_________________________________________________________________\n",
            "flatten_1 (Flatten)          (None, 7744)              0         \n",
            "_________________________________________________________________\n",
            "dense_2 (Dense)              (None, 256)               1982720   \n",
            "_________________________________________________________________\n",
            "activation_10 (Activation)   (None, 256)               0         \n",
            "_________________________________________________________________\n",
            "dropout_1 (Dropout)          (None, 256)               0         \n",
            "_________________________________________________________________\n",
            "dense_3 (Dense)              (None, 2)                 514       \n",
            "_________________________________________________________________\n",
            "activation_11 (Activation)   (None, 2)                 0         \n",
            "=================================================================\n",
            "Total params: 2,048,802\n",
            "Trainable params: 2,048,802\n",
            "Non-trainable params: 0\n",
            "_________________________________________________________________\n"
          ],
          "name": "stdout"
        }
      ]
    },
    {
      "cell_type": "code",
      "metadata": {
        "colab": {
          "base_uri": "https://localhost:8080/"
        },
        "id": "_c8zuK3TBZBT",
        "outputId": "f1e8bd44-4b7f-48a5-e512-9de056953945"
      },
      "source": [
        "# x_train = x_train / 255  # 0から1の範囲に収める\n",
        "# x_test = x_test / 255\n",
        "\n",
        "generator = ImageDataGenerator(\n",
        "           rotation_range=0.2,\n",
        "           width_shift_range=0.2,\n",
        "           height_shift_range=0.2,\n",
        "           shear_range=1,\n",
        "           zoom_range=0.2,\n",
        "           horizontal_flip=True)\n",
        "generator.fit(x_train)\n",
        "\n",
        "history = model.fit(generator.flow(x_train, t_train, batch_size=batch_size),\n",
        "                              epochs=epochs,\n",
        "                              validation_data=(x_test, t_test))\n"
      ],
      "execution_count": 10,
      "outputs": [
        {
          "output_type": "stream",
          "text": [
            "Epoch 1/50\n",
            "27/27 [==============================] - 2s 36ms/step - loss: 0.7054 - accuracy: 0.5595 - val_loss: 0.6700 - val_accuracy: 0.5885\n",
            "Epoch 2/50\n",
            "27/27 [==============================] - 0s 18ms/step - loss: 0.6773 - accuracy: 0.5675 - val_loss: 0.6657 - val_accuracy: 0.6651\n",
            "Epoch 3/50\n",
            "27/27 [==============================] - 0s 16ms/step - loss: 0.6553 - accuracy: 0.6047 - val_loss: 0.6499 - val_accuracy: 0.6316\n",
            "Epoch 4/50\n",
            "27/27 [==============================] - 0s 16ms/step - loss: 0.6737 - accuracy: 0.6165 - val_loss: 0.7483 - val_accuracy: 0.4593\n",
            "Epoch 5/50\n",
            "27/27 [==============================] - 0s 18ms/step - loss: 0.6600 - accuracy: 0.6169 - val_loss: 0.7911 - val_accuracy: 0.6077\n",
            "Epoch 6/50\n",
            "27/27 [==============================] - 0s 17ms/step - loss: 0.6640 - accuracy: 0.5931 - val_loss: 0.6556 - val_accuracy: 0.6124\n",
            "Epoch 7/50\n",
            "27/27 [==============================] - 0s 17ms/step - loss: 0.6501 - accuracy: 0.6402 - val_loss: 0.6415 - val_accuracy: 0.6651\n",
            "Epoch 8/50\n",
            "27/27 [==============================] - 0s 17ms/step - loss: 0.6530 - accuracy: 0.6022 - val_loss: 0.6451 - val_accuracy: 0.6220\n",
            "Epoch 9/50\n",
            "27/27 [==============================] - 0s 17ms/step - loss: 0.6061 - accuracy: 0.6806 - val_loss: 0.6449 - val_accuracy: 0.6746\n",
            "Epoch 10/50\n",
            "27/27 [==============================] - 1s 19ms/step - loss: 0.6162 - accuracy: 0.6582 - val_loss: 0.6792 - val_accuracy: 0.6172\n",
            "Epoch 11/50\n",
            "27/27 [==============================] - 0s 17ms/step - loss: 0.6026 - accuracy: 0.6714 - val_loss: 0.6015 - val_accuracy: 0.6794\n",
            "Epoch 12/50\n",
            "27/27 [==============================] - 0s 17ms/step - loss: 0.6114 - accuracy: 0.6775 - val_loss: 0.6165 - val_accuracy: 0.6842\n",
            "Epoch 13/50\n",
            "27/27 [==============================] - 0s 17ms/step - loss: 0.6350 - accuracy: 0.6434 - val_loss: 0.5994 - val_accuracy: 0.6842\n",
            "Epoch 14/50\n",
            "27/27 [==============================] - 0s 17ms/step - loss: 0.5919 - accuracy: 0.7127 - val_loss: 0.6161 - val_accuracy: 0.6746\n",
            "Epoch 15/50\n",
            "27/27 [==============================] - 0s 17ms/step - loss: 0.5741 - accuracy: 0.7127 - val_loss: 0.6235 - val_accuracy: 0.6746\n",
            "Epoch 16/50\n",
            "27/27 [==============================] - 0s 17ms/step - loss: 0.5765 - accuracy: 0.6947 - val_loss: 0.6612 - val_accuracy: 0.6411\n",
            "Epoch 17/50\n",
            "27/27 [==============================] - 0s 17ms/step - loss: 0.5759 - accuracy: 0.7094 - val_loss: 0.6021 - val_accuracy: 0.6699\n",
            "Epoch 18/50\n",
            "27/27 [==============================] - 0s 17ms/step - loss: 0.5968 - accuracy: 0.6906 - val_loss: 0.6610 - val_accuracy: 0.6268\n",
            "Epoch 19/50\n",
            "27/27 [==============================] - 0s 18ms/step - loss: 0.6205 - accuracy: 0.6880 - val_loss: 0.6030 - val_accuracy: 0.7033\n",
            "Epoch 20/50\n",
            "27/27 [==============================] - 0s 17ms/step - loss: 0.5980 - accuracy: 0.7302 - val_loss: 0.5731 - val_accuracy: 0.6986\n",
            "Epoch 21/50\n",
            "27/27 [==============================] - 0s 17ms/step - loss: 0.5437 - accuracy: 0.7229 - val_loss: 0.5980 - val_accuracy: 0.7129\n",
            "Epoch 22/50\n",
            "27/27 [==============================] - 0s 18ms/step - loss: 0.5609 - accuracy: 0.7489 - val_loss: 0.5870 - val_accuracy: 0.6938\n",
            "Epoch 23/50\n",
            "27/27 [==============================] - 0s 18ms/step - loss: 0.5531 - accuracy: 0.7369 - val_loss: 0.5472 - val_accuracy: 0.7608\n",
            "Epoch 24/50\n",
            "27/27 [==============================] - 0s 17ms/step - loss: 0.5177 - accuracy: 0.7505 - val_loss: 0.5675 - val_accuracy: 0.7177\n",
            "Epoch 25/50\n",
            "27/27 [==============================] - 0s 18ms/step - loss: 0.5437 - accuracy: 0.7367 - val_loss: 0.5441 - val_accuracy: 0.7321\n",
            "Epoch 26/50\n",
            "27/27 [==============================] - 0s 17ms/step - loss: 0.5825 - accuracy: 0.6663 - val_loss: 0.7030 - val_accuracy: 0.6651\n",
            "Epoch 27/50\n",
            "27/27 [==============================] - 0s 17ms/step - loss: 0.5889 - accuracy: 0.7028 - val_loss: 0.5101 - val_accuracy: 0.7464\n",
            "Epoch 28/50\n",
            "27/27 [==============================] - 1s 19ms/step - loss: 0.6148 - accuracy: 0.7265 - val_loss: 0.5623 - val_accuracy: 0.7177\n",
            "Epoch 29/50\n",
            "27/27 [==============================] - 0s 17ms/step - loss: 0.5511 - accuracy: 0.7443 - val_loss: 0.5120 - val_accuracy: 0.7703\n",
            "Epoch 30/50\n",
            "27/27 [==============================] - 0s 17ms/step - loss: 0.5749 - accuracy: 0.7109 - val_loss: 0.4995 - val_accuracy: 0.7703\n",
            "Epoch 31/50\n",
            "27/27 [==============================] - 0s 17ms/step - loss: 0.4610 - accuracy: 0.8182 - val_loss: 0.4556 - val_accuracy: 0.7943\n",
            "Epoch 32/50\n",
            "27/27 [==============================] - 1s 20ms/step - loss: 0.5416 - accuracy: 0.7521 - val_loss: 0.4589 - val_accuracy: 0.8134\n",
            "Epoch 33/50\n",
            "27/27 [==============================] - 0s 17ms/step - loss: 0.5219 - accuracy: 0.7527 - val_loss: 0.5297 - val_accuracy: 0.7656\n",
            "Epoch 34/50\n",
            "27/27 [==============================] - 0s 18ms/step - loss: 0.5410 - accuracy: 0.7162 - val_loss: 0.5572 - val_accuracy: 0.7368\n",
            "Epoch 35/50\n",
            "27/27 [==============================] - 1s 18ms/step - loss: 0.5100 - accuracy: 0.7786 - val_loss: 0.5234 - val_accuracy: 0.7560\n",
            "Epoch 36/50\n",
            "27/27 [==============================] - 0s 17ms/step - loss: 0.5266 - accuracy: 0.7279 - val_loss: 0.5302 - val_accuracy: 0.7464\n",
            "Epoch 37/50\n",
            "27/27 [==============================] - 1s 19ms/step - loss: 0.4861 - accuracy: 0.7695 - val_loss: 0.4645 - val_accuracy: 0.8038\n",
            "Epoch 38/50\n",
            "27/27 [==============================] - 1s 19ms/step - loss: 0.4257 - accuracy: 0.8106 - val_loss: 0.5601 - val_accuracy: 0.7416\n",
            "Epoch 39/50\n",
            "27/27 [==============================] - 0s 17ms/step - loss: 0.4490 - accuracy: 0.7945 - val_loss: 0.6068 - val_accuracy: 0.7512\n",
            "Epoch 40/50\n",
            "27/27 [==============================] - 0s 18ms/step - loss: 0.5410 - accuracy: 0.7175 - val_loss: 0.4379 - val_accuracy: 0.8325\n",
            "Epoch 41/50\n",
            "27/27 [==============================] - 1s 19ms/step - loss: 0.4336 - accuracy: 0.7947 - val_loss: 0.4481 - val_accuracy: 0.8325\n",
            "Epoch 42/50\n",
            "27/27 [==============================] - 1s 19ms/step - loss: 0.4787 - accuracy: 0.7377 - val_loss: 0.4189 - val_accuracy: 0.8373\n",
            "Epoch 43/50\n",
            "27/27 [==============================] - 0s 17ms/step - loss: 0.4771 - accuracy: 0.7971 - val_loss: 0.4811 - val_accuracy: 0.8038\n",
            "Epoch 44/50\n",
            "27/27 [==============================] - 1s 19ms/step - loss: 0.4116 - accuracy: 0.8296 - val_loss: 0.4184 - val_accuracy: 0.8182\n",
            "Epoch 45/50\n",
            "27/27 [==============================] - 0s 17ms/step - loss: 0.3814 - accuracy: 0.8405 - val_loss: 0.4220 - val_accuracy: 0.8134\n",
            "Epoch 46/50\n",
            "27/27 [==============================] - 0s 17ms/step - loss: 0.4641 - accuracy: 0.7887 - val_loss: 0.4205 - val_accuracy: 0.8565\n",
            "Epoch 47/50\n",
            "27/27 [==============================] - 1s 19ms/step - loss: 0.4354 - accuracy: 0.7972 - val_loss: 0.3952 - val_accuracy: 0.8469\n",
            "Epoch 48/50\n",
            "27/27 [==============================] - 0s 18ms/step - loss: 0.4658 - accuracy: 0.7965 - val_loss: 0.5378 - val_accuracy: 0.7703\n",
            "Epoch 49/50\n",
            "27/27 [==============================] - 0s 17ms/step - loss: 0.4495 - accuracy: 0.7765 - val_loss: 0.3848 - val_accuracy: 0.8469\n",
            "Epoch 50/50\n",
            "27/27 [==============================] - 0s 17ms/step - loss: 0.4005 - accuracy: 0.8089 - val_loss: 0.3804 - val_accuracy: 0.8612\n"
          ],
          "name": "stdout"
        }
      ]
    },
    {
      "cell_type": "code",
      "metadata": {
        "colab": {
          "base_uri": "https://localhost:8080/",
          "height": 513
        },
        "id": "MUTAQM78dr1E",
        "outputId": "c486082a-5aef-4da5-bdc8-f38bb35239ee"
      },
      "source": [
        "import matplotlib.pyplot as plt\n",
        "\n",
        "train_loss = history.history['loss'] \n",
        "train_acc = history.history['accuracy'] \n",
        "val_loss = history.history['val_loss'] \n",
        "val_acc = history.history['val_accuracy'] \n",
        "\n",
        "plt.plot(np.arange(len(train_loss)), train_loss, label='train_loss')\n",
        "plt.plot(np.arange(len(val_loss)), val_loss, label='test_val_loss')\n",
        "plt.legend()\n",
        "plt.show()\n",
        "\n",
        "plt.plot(np.arange(len(train_acc)), train_acc, label='train_acc')\n",
        "plt.plot(np.arange(len(val_acc)), val_acc, label='test_acc')\n",
        "plt.legend()\n",
        "plt.show()"
      ],
      "execution_count": 12,
      "outputs": [
        {
          "output_type": "display_data",
          "data": {
            "image/png": "[encoded data removed]",
            "text/plain": [
              "<Figure size 432x288 with 1 Axes>"
            ]
          },
          "metadata": {
            "tags": [],
            "needs_background": "light"
          }
        },
        {
          "output_type": "display_data",
          "data": {
            "image/png": "[encoded data removed]",
            "text/plain": [
              "<Figure size 432x288 with 1 Axes>"
            ]
          },
          "metadata": {
            "tags": [],
            "needs_background": "light"
          }
        }
      ]
    },
    {
      "cell_type": "code",
      "metadata": {
        "colab": {
          "base_uri": "https://localhost:8080/"
        },
        "id": "afqJ80aGRJvM",
        "outputId": "55575084-12bd-48f7-ee23-3773c9d48140"
      },
      "source": [
        "loss, accuracy = model.evaluate(x_test, t_test)\n",
        "print(loss, accuracy)"
      ],
      "execution_count": 15,
      "outputs": [
        {
          "output_type": "stream",
          "text": [
            "7/7 [==============================] - 0s 4ms/step - loss: 0.3804 - accuracy: 0.8612\n",
            "0.3804457187652588 0.8612440228462219\n"
          ],
          "name": "stdout"
        }
      ]
    },
    {
      "cell_type": "code",
      "metadata": {
        "id": "BROLrDfaRS7I"
      },
      "source": [
        "from google.colab import files\n",
        "\n",
        "# 「include_optimizer=false」 = 推論用のデータのみ\n",
        "model.save(\"image_classifier.h5\",  include_optimizer=False)\n",
        "files.download(\"image_classifier.h5\")"
      ],
      "execution_count": null,
      "outputs": []
    },
    {
      "cell_type": "markdown",
      "metadata": {
        "id": "klFmiBHEdrQt"
      },
      "source": [
        ""
      ]
    }
  ]
}